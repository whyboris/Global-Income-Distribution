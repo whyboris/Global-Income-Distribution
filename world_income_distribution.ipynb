{
 "cells": [
  {
   "cell_type": "markdown",
   "metadata": {},
   "source": [
    "# World Income Distribution\n",
    "\n",
    "Comparing countries against each other via Global Income Distribution percentiles"
   ]
  },
  {
   "cell_type": "markdown",
   "metadata": {},
   "source": [
    "## Import"
   ]
  },
  {
   "cell_type": "code",
   "execution_count": 1,
   "metadata": {},
   "outputs": [],
   "source": [
    "import pandas as pd"
   ]
  },
  {
   "cell_type": "code",
   "execution_count": 2,
   "metadata": {},
   "outputs": [],
   "source": [
    "import matplotlib.ticker as ticker"
   ]
  },
  {
   "cell_type": "code",
   "execution_count": 3,
   "metadata": {},
   "outputs": [],
   "source": [
    "import matplotlib.style as style"
   ]
  },
  {
   "cell_type": "code",
   "execution_count": 4,
   "metadata": {},
   "outputs": [],
   "source": [
    "import seaborn as sns"
   ]
  },
  {
   "cell_type": "code",
   "execution_count": 5,
   "metadata": {},
   "outputs": [],
   "source": [
    "sns.set()"
   ]
  },
  {
   "cell_type": "code",
   "execution_count": 6,
   "metadata": {},
   "outputs": [],
   "source": [
    "style.use('fivethirtyeight')"
   ]
  },
  {
   "cell_type": "markdown",
   "metadata": {},
   "source": [
    "### Function to convert PPP dollars to percentiles"
   ]
  },
  {
   "cell_type": "markdown",
   "metadata": {},
   "source": [
    "We will use this function to convert PPP dollar input to percentile of world income (circa 2013)"
   ]
  },
  {
   "cell_type": "markdown",
   "metadata": {},
   "source": [
    "WARNING -- 2013 figures are farther away from 2005 data (that we'll be plotting), so perhaps 2003 figures are better.\n",
    "\n",
    "We'll investigate 2003 alternativel later."
   ]
  },
  {
   "cell_type": "code",
   "execution_count": 7,
   "metadata": {},
   "outputs": [],
   "source": [
    "percentiles = pd.read_csv('figure5data.csv')"
   ]
  },
  {
   "cell_type": "code",
   "execution_count": 8,
   "metadata": {},
   "outputs": [],
   "source": [
    "percentiles.drop(percentiles.tail(1).index,inplace=True)"
   ]
  },
  {
   "cell_type": "code",
   "execution_count": 9,
   "metadata": {},
   "outputs": [],
   "source": [
    "def get_percentile(income):\n",
    "  for j in range(len(percentiles)):\n",
    "    if percentiles['midpoint'].iloc[j] > income:\n",
    "      return(percentiles.iloc[j]['c2013'])"
   ]
  },
  {
   "cell_type": "markdown",
   "metadata": {},
   "source": [
    "Example use, confirmation it works:"
   ]
  },
  {
   "cell_type": "code",
   "execution_count": 10,
   "metadata": {},
   "outputs": [
    {
     "data": {
      "text/plain": [
       "84.3856327945172"
      ]
     },
     "execution_count": 10,
     "metadata": {},
     "output_type": "execute_result"
    }
   ],
   "source": [
    "get_percentile(10000)"
   ]
  },
  {
   "cell_type": "markdown",
   "metadata": {},
   "source": [
    "## Explore"
   ]
  },
  {
   "cell_type": "code",
   "execution_count": 11,
   "metadata": {},
   "outputs": [],
   "source": [
    "df = pd.read_csv('wyd_88_05_for_release.csv')"
   ]
  },
  {
   "cell_type": "markdown",
   "metadata": {},
   "source": [
    "All the countries for which we have data:"
   ]
  },
  {
   "cell_type": "code",
   "execution_count": 12,
   "metadata": {},
   "outputs": [
    {
     "data": {
      "text/plain": [
       "array(['AGO', 'ALB', 'ANT', 'ARE', 'ARG', 'ARM', 'AUS', 'AUT', 'AZE',\n",
       "       'BDI', 'BEL', 'BEN', 'BFA', 'BGD', 'BGD-R', 'BGD-U', 'BGR', 'BIH',\n",
       "       'BLR', 'BOL', 'BRA', 'BRB', 'BTN', 'BWA', 'CAF', 'CAN', 'CHE',\n",
       "       'CHL', 'CHN', 'CHN-R', 'CHN-U', 'CIV', 'CMR', 'COG', 'COL', 'COM',\n",
       "       'CPV', 'CRI', 'CYP', 'CZE', 'DDR', 'DEU', 'DJI', 'DNK', 'DOM',\n",
       "       'DZA', 'ECU', 'ECU-U', 'EGY', 'EGY-R', 'EGY-U', 'ESP', 'EST',\n",
       "       'ETH', 'FIN', 'FRA', 'GAB', 'GBR', 'GEO', 'GHA', 'GIN', 'GMB',\n",
       "       'GNB', 'GRC', 'GTM', 'GUY', 'HKG', 'HND', 'HRV', 'HTI', 'HUN',\n",
       "       'IDN', 'IDN-R', 'IDN-U', 'IND', 'IND-R', 'IND-U', 'IRL', 'IRN',\n",
       "       'ISR', 'ITA', 'JAM', 'JOR', 'JPN', 'KAZ', 'KEN', 'KGZ', 'KHM',\n",
       "       'KOR', 'LAO', 'LBR', 'LKA', 'LSO', 'LTU', 'LUX', 'LVA', 'MAR',\n",
       "       'MDA', 'MDG', 'MEX', 'MKD', 'MLI', 'MNE', 'MNG', 'MNG-R', 'MNG-U',\n",
       "       'MOZ', 'MRT', 'MWI', 'MYS', 'NAM', 'NER', 'NER-R', 'NER-U', 'NGA',\n",
       "       'NIC', 'NLD', 'NOR', 'NPL', 'NZL', 'PAK', 'PAN', 'PER', 'PER-U',\n",
       "       'PHL', 'PNG', 'POL', 'PRT', 'PRY', 'ROM', 'RUS', 'RWA', 'SEN',\n",
       "       'SGP', 'SLE', 'SLV', 'SLV-U', 'SRB', 'STP', 'SUR', 'SVK', 'SVN',\n",
       "       'SWE', 'SWZ', 'SYR', 'TCD', 'TGO', 'THA', 'TJK', 'TKM', 'TMP',\n",
       "       'TTO', 'TUN', 'TUR', 'TWN', 'TZA', 'UGA', 'UKR', 'URY', 'USA',\n",
       "       'UZB', 'VEN', 'VNM', 'YEM', 'YUG', 'ZAF', 'ZAR', 'ZMB', 'ZWE'],\n",
       "      dtype=object)"
      ]
     },
     "execution_count": 12,
     "metadata": {},
     "output_type": "execute_result"
    }
   ],
   "source": [
    "df['contcod'].unique()"
   ]
  },
  {
   "cell_type": "markdown",
   "metadata": {},
   "source": [
    "Country codes lookup: https://wits.worldbank.org/wits/wits/witshelp/content/codes/country_codes.htm"
   ]
  },
  {
   "cell_type": "code",
   "execution_count": 13,
   "metadata": {},
   "outputs": [
    {
     "data": {
      "text/plain": [
       "169"
      ]
     },
     "execution_count": 13,
     "metadata": {},
     "output_type": "execute_result"
    }
   ],
   "source": [
    "df['contcod'].unique().size"
   ]
  },
  {
   "cell_type": "markdown",
   "metadata": {},
   "source": [
    "All the countries that have 2005 data:"
   ]
  },
  {
   "cell_type": "code",
   "execution_count": 14,
   "metadata": {},
   "outputs": [
    {
     "data": {
      "text/plain": [
       "array(['AGO', 'ALB', 'ARG', 'ARM', 'AUS', 'AUT', 'AZE', 'BEL', 'BGD',\n",
       "       'BGR', 'BIH', 'BLR', 'BOL', 'BRA', 'BTN', 'CAF', 'CAN', 'CHE',\n",
       "       'CHL', 'CHN', 'CHN-R', 'CHN-U', 'CIV', 'COG', 'COL', 'COM', 'CPV',\n",
       "       'CRI', 'CZE', 'DEU', 'DJI', 'DNK', 'DOM', 'ECU', 'EGY', 'ESP',\n",
       "       'EST', 'ETH', 'FIN', 'FRA', 'GAB', 'GBR', 'GEO', 'GHA', 'GIN',\n",
       "       'GMB', 'GNB', 'GRC', 'GTM', 'HND', 'HRV', 'HUN', 'IDN', 'IDN-R',\n",
       "       'IDN-U', 'IND', 'IND-R', 'IND-U', 'IRL', 'IRN', 'ISR', 'ITA',\n",
       "       'JOR', 'JPN', 'KAZ', 'KEN', 'KGZ', 'KHM', 'KOR', 'LAO', 'LBR',\n",
       "       'LSO', 'LTU', 'LUX', 'LVA', 'MAR', 'MDA', 'MDG', 'MEX', 'MKD',\n",
       "       'MLI', 'MNE', 'MNG', 'MOZ', 'MWI', 'MYS', 'NER', 'NGA', 'NIC',\n",
       "       'NLD', 'NOR', 'NPL', 'PAK', 'PAN', 'PER', 'PHL', 'POL', 'PRT',\n",
       "       'PRY', 'ROM', 'RUS', 'SEN', 'SLE', 'SLV', 'SRB', 'SVK', 'SVN',\n",
       "       'SWE', 'TCD', 'TGO', 'THA', 'TJK', 'TKM', 'TUN', 'TUR', 'TWN',\n",
       "       'UGA', 'UKR', 'URY', 'USA', 'VEN', 'VNM', 'YEM', 'ZAR', 'ZMB'],\n",
       "      dtype=object)"
      ]
     },
     "execution_count": 14,
     "metadata": {},
     "output_type": "execute_result"
    }
   ],
   "source": [
    "df.loc[df['year'] == 2005]['contcod'].unique()"
   ]
  },
  {
   "cell_type": "code",
   "execution_count": 15,
   "metadata": {},
   "outputs": [
    {
     "data": {
      "text/plain": [
       "125"
      ]
     },
     "execution_count": 15,
     "metadata": {},
     "output_type": "execute_result"
    }
   ],
   "source": [
    "df.loc[df['year'] == 2005]['contcod'].unique().size"
   ]
  },
  {
   "cell_type": "code",
   "execution_count": 16,
   "metadata": {},
   "outputs": [
    {
     "data": {
      "text/html": [
       "<div>\n",
       "<style scoped>\n",
       "    .dataframe tbody tr th:only-of-type {\n",
       "        vertical-align: middle;\n",
       "    }\n",
       "\n",
       "    .dataframe tbody tr th {\n",
       "        vertical-align: top;\n",
       "    }\n",
       "\n",
       "    .dataframe thead th {\n",
       "        text-align: right;\n",
       "    }\n",
       "</style>\n",
       "<table border=\"1\" class=\"dataframe\">\n",
       "  <thead>\n",
       "    <tr style=\"text-align: right;\">\n",
       "      <th></th>\n",
       "      <th>contcod</th>\n",
       "      <th>country</th>\n",
       "      <th>year</th>\n",
       "      <th>region</th>\n",
       "      <th>Dexpend</th>\n",
       "      <th>whole</th>\n",
       "      <th>group</th>\n",
       "      <th>Dinc</th>\n",
       "      <th>pop</th>\n",
       "    </tr>\n",
       "  </thead>\n",
       "  <tbody>\n",
       "    <tr>\n",
       "      <th>0</th>\n",
       "      <td>AGO</td>\n",
       "      <td>6</td>\n",
       "      <td>1998</td>\n",
       "      <td>1</td>\n",
       "      <td>1</td>\n",
       "      <td>1</td>\n",
       "      <td>1</td>\n",
       "      <td>45.023155</td>\n",
       "      <td>1.24</td>\n",
       "    </tr>\n",
       "    <tr>\n",
       "      <th>1</th>\n",
       "      <td>AGO</td>\n",
       "      <td>6</td>\n",
       "      <td>1998</td>\n",
       "      <td>1</td>\n",
       "      <td>1</td>\n",
       "      <td>1</td>\n",
       "      <td>2</td>\n",
       "      <td>74.135872</td>\n",
       "      <td>1.24</td>\n",
       "    </tr>\n",
       "    <tr>\n",
       "      <th>2</th>\n",
       "      <td>AGO</td>\n",
       "      <td>6</td>\n",
       "      <td>1998</td>\n",
       "      <td>1</td>\n",
       "      <td>1</td>\n",
       "      <td>1</td>\n",
       "      <td>3</td>\n",
       "      <td>96.224304</td>\n",
       "      <td>1.24</td>\n",
       "    </tr>\n",
       "  </tbody>\n",
       "</table>\n",
       "</div>"
      ],
      "text/plain": [
       "  contcod country  year  region  Dexpend  whole  group       Dinc   pop\n",
       "0     AGO       6  1998       1        1      1      1  45.023155  1.24\n",
       "1     AGO       6  1998       1        1      1      2  74.135872  1.24\n",
       "2     AGO       6  1998       1        1      1      3  96.224304  1.24"
      ]
     },
     "execution_count": 16,
     "metadata": {},
     "output_type": "execute_result"
    }
   ],
   "source": [
    "df.head(3)"
   ]
  },
  {
   "cell_type": "markdown",
   "metadata": {},
   "source": [
    "### Many countries at once"
   ]
  },
  {
   "cell_type": "markdown",
   "metadata": {},
   "source": [
    "We will attempt to replicate a graph from Branko Milanovic.\n",
    "\n",
    "Let's select Brazil, India, China, and Germany"
   ]
  },
  {
   "cell_type": "code",
   "execution_count": 17,
   "metadata": {},
   "outputs": [],
   "source": [
    "countries = ['BRA', 'IND', 'CHN', 'DEU']"
   ]
  },
  {
   "cell_type": "code",
   "execution_count": 18,
   "metadata": {},
   "outputs": [],
   "source": [
    "several = df.loc[df['contcod'].isin(countries)]"
   ]
  },
  {
   "cell_type": "code",
   "execution_count": 19,
   "metadata": {},
   "outputs": [],
   "source": [
    "only2005 = several.loc[several['year'] == 2005]"
   ]
  },
  {
   "cell_type": "markdown",
   "metadata": {},
   "source": [
    "Plot it all to see whether all the data is all there."
   ]
  },
  {
   "cell_type": "code",
   "execution_count": 20,
   "metadata": {},
   "outputs": [
    {
     "data": {
      "image/png": "[encoded data removed]",
      "text/plain": [
       "<Figure size 438.225x360 with 1 Axes>"
      ]
     },
     "metadata": {},
     "output_type": "display_data"
    }
   ],
   "source": [
    "sns.relplot(x=\"group\", y=\"Dinc\", kind=\"line\", hue=\"contcod\", legend=\"full\", data=only2005);"
   ]
  },
  {
   "cell_type": "code",
   "execution_count": 21,
   "metadata": {},
   "outputs": [
    {
     "name": "stderr",
     "output_type": "stream",
     "text": [
      "/Library/Frameworks/Python.framework/Versions/3.7/lib/python3.7/site-packages/ipykernel_launcher.py:1: SettingWithCopyWarning: \n",
      "A value is trying to be set on a copy of a slice from a DataFrame.\n",
      "Try using .loc[row_indexer,col_indexer] = value instead\n",
      "\n",
      "See the caveats in the documentation: http://pandas.pydata.org/pandas-docs/stable/indexing.html#indexing-view-versus-copy\n",
      "  \"\"\"Entry point for launching an IPython kernel.\n"
     ]
    }
   ],
   "source": [
    "only2005['percentile'] = only2005.apply(lambda x: get_percentile(x['Dinc']), axis=1)"
   ]
  },
  {
   "cell_type": "code",
   "execution_count": 22,
   "metadata": {},
   "outputs": [
    {
     "data": {
      "image/png": "[encoded data removed]",
      "text/plain": [
       "<Figure size 438.225x360 with 1 Axes>"
      ]
     },
     "metadata": {},
     "output_type": "display_data"
    }
   ],
   "source": [
    "sns.relplot(x=\"group\", y=\"percentile\", kind=\"line\", hue=\"contcod\", legend=\"full\", data=only2005);"
   ]
  },
  {
   "cell_type": "markdown",
   "metadata": {},
   "source": [
    "*WARNING* -- the graph does not match WYD graph from Branko Milanovic -- India and China here start much higher than in the published chart. \n",
    "\n",
    "This is because `Dinc` is expressed in the country's currency rather than PPP, we'll need to convert"
   ]
  },
  {
   "cell_type": "markdown",
   "metadata": {},
   "source": [
    "So we go out and find the PPP conversion factor data -- another dataset!"
   ]
  },
  {
   "cell_type": "markdown",
   "metadata": {},
   "source": [
    "*NOTE:* `./data/API_PA.NUS.PPP_DS2_en_csv_v2_10578402.csv` was renamed and cleaned as `./ppp.csv`"
   ]
  },
  {
   "cell_type": "code",
   "execution_count": 27,
   "metadata": {},
   "outputs": [],
   "source": [
    "ppp = pd.read_csv('ppp.csv')"
   ]
  },
  {
   "cell_type": "code",
   "execution_count": 28,
   "metadata": {},
   "outputs": [
    {
     "data": {
      "text/html": [
       "<div>\n",
       "<style scoped>\n",
       "    .dataframe tbody tr th:only-of-type {\n",
       "        vertical-align: middle;\n",
       "    }\n",
       "\n",
       "    .dataframe tbody tr th {\n",
       "        vertical-align: top;\n",
       "    }\n",
       "\n",
       "    .dataframe thead th {\n",
       "        text-align: right;\n",
       "    }\n",
       "</style>\n",
       "<table border=\"1\" class=\"dataframe\">\n",
       "  <thead>\n",
       "    <tr style=\"text-align: right;\">\n",
       "      <th></th>\n",
       "      <th>Country Name</th>\n",
       "      <th>Country Code</th>\n",
       "      <th>Indicator Name</th>\n",
       "      <th>Indicator Code</th>\n",
       "      <th>1960</th>\n",
       "      <th>1961</th>\n",
       "      <th>1962</th>\n",
       "      <th>1963</th>\n",
       "      <th>1964</th>\n",
       "      <th>1965</th>\n",
       "      <th>...</th>\n",
       "      <th>2010</th>\n",
       "      <th>2011</th>\n",
       "      <th>2012</th>\n",
       "      <th>2013</th>\n",
       "      <th>2014</th>\n",
       "      <th>2015</th>\n",
       "      <th>2016</th>\n",
       "      <th>2017</th>\n",
       "      <th>2018</th>\n",
       "      <th>Unnamed: 63</th>\n",
       "    </tr>\n",
       "  </thead>\n",
       "  <tbody>\n",
       "    <tr>\n",
       "      <th>0</th>\n",
       "      <td>Aruba</td>\n",
       "      <td>ABW</td>\n",
       "      <td>PPP conversion factor, GDP (LCU per internatio...</td>\n",
       "      <td>PA.NUS.PPP</td>\n",
       "      <td>NaN</td>\n",
       "      <td>NaN</td>\n",
       "      <td>NaN</td>\n",
       "      <td>NaN</td>\n",
       "      <td>NaN</td>\n",
       "      <td>NaN</td>\n",
       "      <td>...</td>\n",
       "      <td>1.247673</td>\n",
       "      <td>1.260119</td>\n",
       "      <td>1.246163</td>\n",
       "      <td>1.197089</td>\n",
       "      <td>1.195737</td>\n",
       "      <td>1.207233</td>\n",
       "      <td>1.176832</td>\n",
       "      <td>1.162809</td>\n",
       "      <td>NaN</td>\n",
       "      <td>NaN</td>\n",
       "    </tr>\n",
       "    <tr>\n",
       "      <th>1</th>\n",
       "      <td>Afghanistan</td>\n",
       "      <td>AFG</td>\n",
       "      <td>PPP conversion factor, GDP (LCU per internatio...</td>\n",
       "      <td>PA.NUS.PPP</td>\n",
       "      <td>NaN</td>\n",
       "      <td>NaN</td>\n",
       "      <td>NaN</td>\n",
       "      <td>NaN</td>\n",
       "      <td>NaN</td>\n",
       "      <td>NaN</td>\n",
       "      <td>...</td>\n",
       "      <td>15.197030</td>\n",
       "      <td>17.356170</td>\n",
       "      <td>18.273028</td>\n",
       "      <td>18.823950</td>\n",
       "      <td>18.579175</td>\n",
       "      <td>18.832529</td>\n",
       "      <td>19.579392</td>\n",
       "      <td>19.588412</td>\n",
       "      <td>NaN</td>\n",
       "      <td>NaN</td>\n",
       "    </tr>\n",
       "    <tr>\n",
       "      <th>2</th>\n",
       "      <td>Angola</td>\n",
       "      <td>AGO</td>\n",
       "      <td>PPP conversion factor, GDP (LCU per internatio...</td>\n",
       "      <td>PA.NUS.PPP</td>\n",
       "      <td>NaN</td>\n",
       "      <td>NaN</td>\n",
       "      <td>NaN</td>\n",
       "      <td>NaN</td>\n",
       "      <td>NaN</td>\n",
       "      <td>NaN</td>\n",
       "      <td>...</td>\n",
       "      <td>52.926370</td>\n",
       "      <td>68.314856</td>\n",
       "      <td>71.892794</td>\n",
       "      <td>72.659247</td>\n",
       "      <td>73.849371</td>\n",
       "      <td>70.497210</td>\n",
       "      <td>84.918868</td>\n",
       "      <td>102.180626</td>\n",
       "      <td>NaN</td>\n",
       "      <td>NaN</td>\n",
       "    </tr>\n",
       "  </tbody>\n",
       "</table>\n",
       "<p>3 rows × 64 columns</p>\n",
       "</div>"
      ],
      "text/plain": [
       "  Country Name Country Code  \\\n",
       "0        Aruba          ABW   \n",
       "1  Afghanistan          AFG   \n",
       "2       Angola          AGO   \n",
       "\n",
       "                                      Indicator Name Indicator Code  1960  \\\n",
       "0  PPP conversion factor, GDP (LCU per internatio...     PA.NUS.PPP   NaN   \n",
       "1  PPP conversion factor, GDP (LCU per internatio...     PA.NUS.PPP   NaN   \n",
       "2  PPP conversion factor, GDP (LCU per internatio...     PA.NUS.PPP   NaN   \n",
       "\n",
       "   1961  1962  1963  1964  1965  ...       2010       2011       2012  \\\n",
       "0   NaN   NaN   NaN   NaN   NaN  ...   1.247673   1.260119   1.246163   \n",
       "1   NaN   NaN   NaN   NaN   NaN  ...  15.197030  17.356170  18.273028   \n",
       "2   NaN   NaN   NaN   NaN   NaN  ...  52.926370  68.314856  71.892794   \n",
       "\n",
       "        2013       2014       2015       2016        2017  2018  Unnamed: 63  \n",
       "0   1.197089   1.195737   1.207233   1.176832    1.162809   NaN          NaN  \n",
       "1  18.823950  18.579175  18.832529  19.579392   19.588412   NaN          NaN  \n",
       "2  72.659247  73.849371  70.497210  84.918868  102.180626   NaN          NaN  \n",
       "\n",
       "[3 rows x 64 columns]"
      ]
     },
     "execution_count": 28,
     "metadata": {},
     "output_type": "execute_result"
    }
   ],
   "source": [
    "ppp.head(3)"
   ]
  },
  {
   "cell_type": "code",
   "execution_count": 29,
   "metadata": {},
   "outputs": [],
   "source": [
    "ppp = ppp[['Country Code', '2005']]"
   ]
  },
  {
   "cell_type": "code",
   "execution_count": 30,
   "metadata": {},
   "outputs": [
    {
     "data": {
      "text/html": [
       "<div>\n",
       "<style scoped>\n",
       "    .dataframe tbody tr th:only-of-type {\n",
       "        vertical-align: middle;\n",
       "    }\n",
       "\n",
       "    .dataframe tbody tr th {\n",
       "        vertical-align: top;\n",
       "    }\n",
       "\n",
       "    .dataframe thead th {\n",
       "        text-align: right;\n",
       "    }\n",
       "</style>\n",
       "<table border=\"1\" class=\"dataframe\">\n",
       "  <thead>\n",
       "    <tr style=\"text-align: right;\">\n",
       "      <th></th>\n",
       "      <th>Country Code</th>\n",
       "      <th>2005</th>\n",
       "    </tr>\n",
       "  </thead>\n",
       "  <tbody>\n",
       "    <tr>\n",
       "      <th>0</th>\n",
       "      <td>ABW</td>\n",
       "      <td>1.185661</td>\n",
       "    </tr>\n",
       "    <tr>\n",
       "      <th>1</th>\n",
       "      <td>AFG</td>\n",
       "      <td>12.277329</td>\n",
       "    </tr>\n",
       "    <tr>\n",
       "      <th>2</th>\n",
       "      <td>AGO</td>\n",
       "      <td>36.433479</td>\n",
       "    </tr>\n",
       "  </tbody>\n",
       "</table>\n",
       "</div>"
      ],
      "text/plain": [
       "  Country Code       2005\n",
       "0          ABW   1.185661\n",
       "1          AFG  12.277329\n",
       "2          AGO  36.433479"
      ]
     },
     "execution_count": 30,
     "metadata": {},
     "output_type": "execute_result"
    }
   ],
   "source": [
    "ppp.head(3)"
   ]
  },
  {
   "cell_type": "code",
   "execution_count": 31,
   "metadata": {},
   "outputs": [],
   "source": [
    "ppp.columns = ['code', '2005']"
   ]
  },
  {
   "cell_type": "code",
   "execution_count": 32,
   "metadata": {},
   "outputs": [
    {
     "data": {
      "text/html": [
       "<div>\n",
       "<style scoped>\n",
       "    .dataframe tbody tr th:only-of-type {\n",
       "        vertical-align: middle;\n",
       "    }\n",
       "\n",
       "    .dataframe tbody tr th {\n",
       "        vertical-align: top;\n",
       "    }\n",
       "\n",
       "    .dataframe thead th {\n",
       "        text-align: right;\n",
       "    }\n",
       "</style>\n",
       "<table border=\"1\" class=\"dataframe\">\n",
       "  <thead>\n",
       "    <tr style=\"text-align: right;\">\n",
       "      <th></th>\n",
       "      <th>code</th>\n",
       "      <th>2005</th>\n",
       "    </tr>\n",
       "  </thead>\n",
       "  <tbody>\n",
       "    <tr>\n",
       "      <th>0</th>\n",
       "      <td>ABW</td>\n",
       "      <td>1.185661</td>\n",
       "    </tr>\n",
       "    <tr>\n",
       "      <th>1</th>\n",
       "      <td>AFG</td>\n",
       "      <td>12.277329</td>\n",
       "    </tr>\n",
       "    <tr>\n",
       "      <th>2</th>\n",
       "      <td>AGO</td>\n",
       "      <td>36.433479</td>\n",
       "    </tr>\n",
       "  </tbody>\n",
       "</table>\n",
       "</div>"
      ],
      "text/plain": [
       "  code       2005\n",
       "0  ABW   1.185661\n",
       "1  AFG  12.277329\n",
       "2  AGO  36.433479"
      ]
     },
     "execution_count": 32,
     "metadata": {},
     "output_type": "execute_result"
    }
   ],
   "source": [
    "ppp.head(3)"
   ]
  },
  {
   "cell_type": "markdown",
   "metadata": {},
   "source": [
    "Now we are ready to work!\n",
    "\n",
    "Let's create a function that returns the conversion factor!"
   ]
  },
  {
   "cell_type": "code",
   "execution_count": 33,
   "metadata": {},
   "outputs": [],
   "source": [
    "def conversion_factor(code):\n",
    "  # find row with exact code match, select 2005 column, grab first value (the only one there is)\n",
    "  return ppp.loc[ppp['code'] == code]['2005'].iloc[0]"
   ]
  },
  {
   "cell_type": "code",
   "execution_count": 34,
   "metadata": {},
   "outputs": [
    {
     "data": {
      "text/plain": [
       "10.423281440856401"
      ]
     },
     "execution_count": 34,
     "metadata": {},
     "output_type": "execute_result"
    }
   ],
   "source": [
    "conversion_factor('IND')"
   ]
  },
  {
   "cell_type": "code",
   "execution_count": 35,
   "metadata": {},
   "outputs": [
    {
     "data": {
      "text/plain": [
       "1.18566122280955"
      ]
     },
     "execution_count": 35,
     "metadata": {},
     "output_type": "execute_result"
    }
   ],
   "source": [
    "conversion_factor('ABW')"
   ]
  },
  {
   "cell_type": "markdown",
   "metadata": {},
   "source": [
    "Let's add the conversion factor into our dataframe"
   ]
  },
  {
   "cell_type": "code",
   "execution_count": 36,
   "metadata": {},
   "outputs": [
    {
     "name": "stderr",
     "output_type": "stream",
     "text": [
      "/Library/Frameworks/Python.framework/Versions/3.7/lib/python3.7/site-packages/ipykernel_launcher.py:1: SettingWithCopyWarning: \n",
      "A value is trying to be set on a copy of a slice from a DataFrame.\n",
      "Try using .loc[row_indexer,col_indexer] = value instead\n",
      "\n",
      "See the caveats in the documentation: http://pandas.pydata.org/pandas-docs/stable/indexing.html#indexing-view-versus-copy\n",
      "  \"\"\"Entry point for launching an IPython kernel.\n"
     ]
    }
   ],
   "source": [
    "only2005['ppp_factor'] = only2005.apply(lambda x: conversion_factor(x['contcod']), axis=1)"
   ]
  },
  {
   "cell_type": "code",
   "execution_count": 37,
   "metadata": {},
   "outputs": [
    {
     "data": {
      "text/html": [
       "<div>\n",
       "<style scoped>\n",
       "    .dataframe tbody tr th:only-of-type {\n",
       "        vertical-align: middle;\n",
       "    }\n",
       "\n",
       "    .dataframe tbody tr th {\n",
       "        vertical-align: top;\n",
       "    }\n",
       "\n",
       "    .dataframe thead th {\n",
       "        text-align: right;\n",
       "    }\n",
       "</style>\n",
       "<table border=\"1\" class=\"dataframe\">\n",
       "  <thead>\n",
       "    <tr style=\"text-align: right;\">\n",
       "      <th></th>\n",
       "      <th>contcod</th>\n",
       "      <th>country</th>\n",
       "      <th>year</th>\n",
       "      <th>region</th>\n",
       "      <th>Dexpend</th>\n",
       "      <th>whole</th>\n",
       "      <th>group</th>\n",
       "      <th>Dinc</th>\n",
       "      <th>pop</th>\n",
       "      <th>percentile</th>\n",
       "      <th>ppp_factor</th>\n",
       "    </tr>\n",
       "  </thead>\n",
       "  <tbody>\n",
       "    <tr>\n",
       "      <th>1051</th>\n",
       "      <td>BRA</td>\n",
       "      <td>27</td>\n",
       "      <td>2005</td>\n",
       "      <td>3</td>\n",
       "      <td>0</td>\n",
       "      <td>1</td>\n",
       "      <td>1</td>\n",
       "      <td>137.849854</td>\n",
       "      <td>9.3415</td>\n",
       "      <td>1.430303</td>\n",
       "      <td>1.060634</td>\n",
       "    </tr>\n",
       "    <tr>\n",
       "      <th>1052</th>\n",
       "      <td>BRA</td>\n",
       "      <td>27</td>\n",
       "      <td>2005</td>\n",
       "      <td>3</td>\n",
       "      <td>0</td>\n",
       "      <td>1</td>\n",
       "      <td>2</td>\n",
       "      <td>567.420593</td>\n",
       "      <td>9.3415</td>\n",
       "      <td>14.158927</td>\n",
       "      <td>1.060634</td>\n",
       "    </tr>\n",
       "    <tr>\n",
       "      <th>1053</th>\n",
       "      <td>BRA</td>\n",
       "      <td>27</td>\n",
       "      <td>2005</td>\n",
       "      <td>3</td>\n",
       "      <td>0</td>\n",
       "      <td>1</td>\n",
       "      <td>3</td>\n",
       "      <td>840.334290</td>\n",
       "      <td>9.3415</td>\n",
       "      <td>24.110783</td>\n",
       "      <td>1.060634</td>\n",
       "    </tr>\n",
       "  </tbody>\n",
       "</table>\n",
       "</div>"
      ],
      "text/plain": [
       "     contcod country  year  region  Dexpend  whole  group        Dinc     pop  \\\n",
       "1051     BRA      27  2005       3        0      1      1  137.849854  9.3415   \n",
       "1052     BRA      27  2005       3        0      1      2  567.420593  9.3415   \n",
       "1053     BRA      27  2005       3        0      1      3  840.334290  9.3415   \n",
       "\n",
       "      percentile  ppp_factor  \n",
       "1051    1.430303    1.060634  \n",
       "1052   14.158927    1.060634  \n",
       "1053   24.110783    1.060634  "
      ]
     },
     "execution_count": 37,
     "metadata": {},
     "output_type": "execute_result"
    }
   ],
   "source": [
    "only2005.head(3)"
   ]
  },
  {
   "cell_type": "code",
   "execution_count": 38,
   "metadata": {},
   "outputs": [
    {
     "data": {
      "text/html": [
       "<div>\n",
       "<style scoped>\n",
       "    .dataframe tbody tr th:only-of-type {\n",
       "        vertical-align: middle;\n",
       "    }\n",
       "\n",
       "    .dataframe tbody tr th {\n",
       "        vertical-align: top;\n",
       "    }\n",
       "\n",
       "    .dataframe thead th {\n",
       "        text-align: right;\n",
       "    }\n",
       "</style>\n",
       "<table border=\"1\" class=\"dataframe\">\n",
       "  <thead>\n",
       "    <tr style=\"text-align: right;\">\n",
       "      <th></th>\n",
       "      <th>contcod</th>\n",
       "      <th>country</th>\n",
       "      <th>year</th>\n",
       "      <th>region</th>\n",
       "      <th>Dexpend</th>\n",
       "      <th>whole</th>\n",
       "      <th>group</th>\n",
       "      <th>Dinc</th>\n",
       "      <th>pop</th>\n",
       "      <th>percentile</th>\n",
       "      <th>ppp_factor</th>\n",
       "    </tr>\n",
       "  </thead>\n",
       "  <tbody>\n",
       "    <tr>\n",
       "      <th>4171</th>\n",
       "      <td>IND</td>\n",
       "      <td>89</td>\n",
       "      <td>2005</td>\n",
       "      <td>2</td>\n",
       "      <td>1</td>\n",
       "      <td>1</td>\n",
       "      <td>18</td>\n",
       "      <td>11602.4</td>\n",
       "      <td>54.729</td>\n",
       "      <td>86.772376</td>\n",
       "      <td>10.423281</td>\n",
       "    </tr>\n",
       "    <tr>\n",
       "      <th>4172</th>\n",
       "      <td>IND</td>\n",
       "      <td>89</td>\n",
       "      <td>2005</td>\n",
       "      <td>2</td>\n",
       "      <td>1</td>\n",
       "      <td>1</td>\n",
       "      <td>19</td>\n",
       "      <td>14546.9</td>\n",
       "      <td>54.729</td>\n",
       "      <td>90.164465</td>\n",
       "      <td>10.423281</td>\n",
       "    </tr>\n",
       "    <tr>\n",
       "      <th>4173</th>\n",
       "      <td>IND</td>\n",
       "      <td>89</td>\n",
       "      <td>2005</td>\n",
       "      <td>2</td>\n",
       "      <td>1</td>\n",
       "      <td>1</td>\n",
       "      <td>20</td>\n",
       "      <td>28810.1</td>\n",
       "      <td>54.729</td>\n",
       "      <td>97.182436</td>\n",
       "      <td>10.423281</td>\n",
       "    </tr>\n",
       "  </tbody>\n",
       "</table>\n",
       "</div>"
      ],
      "text/plain": [
       "     contcod country  year  region  Dexpend  whole  group     Dinc     pop  \\\n",
       "4171     IND      89  2005       2        1      1     18  11602.4  54.729   \n",
       "4172     IND      89  2005       2        1      1     19  14546.9  54.729   \n",
       "4173     IND      89  2005       2        1      1     20  28810.1  54.729   \n",
       "\n",
       "      percentile  ppp_factor  \n",
       "4171   86.772376   10.423281  \n",
       "4172   90.164465   10.423281  \n",
       "4173   97.182436   10.423281  "
      ]
     },
     "execution_count": 38,
     "metadata": {},
     "output_type": "execute_result"
    }
   ],
   "source": [
    "only2005.tail(3)"
   ]
  },
  {
   "cell_type": "markdown",
   "metadata": {},
   "source": [
    "Now we just have to create a new column (let's call it `ppp_2005`) multiplying the `Dinc` by `ppp_factor`"
   ]
  },
  {
   "cell_type": "code",
   "execution_count": 39,
   "metadata": {},
   "outputs": [
    {
     "name": "stderr",
     "output_type": "stream",
     "text": [
      "/Library/Frameworks/Python.framework/Versions/3.7/lib/python3.7/site-packages/ipykernel_launcher.py:1: SettingWithCopyWarning: \n",
      "A value is trying to be set on a copy of a slice from a DataFrame.\n",
      "Try using .loc[row_indexer,col_indexer] = value instead\n",
      "\n",
      "See the caveats in the documentation: http://pandas.pydata.org/pandas-docs/stable/indexing.html#indexing-view-versus-copy\n",
      "  \"\"\"Entry point for launching an IPython kernel.\n"
     ]
    }
   ],
   "source": [
    "only2005['ppp_2005'] = only2005.apply(lambda x: x['Dinc'] / x['ppp_factor'], axis=1)"
   ]
  },
  {
   "cell_type": "code",
   "execution_count": 40,
   "metadata": {},
   "outputs": [
    {
     "data": {
      "text/html": [
       "<div>\n",
       "<style scoped>\n",
       "    .dataframe tbody tr th:only-of-type {\n",
       "        vertical-align: middle;\n",
       "    }\n",
       "\n",
       "    .dataframe tbody tr th {\n",
       "        vertical-align: top;\n",
       "    }\n",
       "\n",
       "    .dataframe thead th {\n",
       "        text-align: right;\n",
       "    }\n",
       "</style>\n",
       "<table border=\"1\" class=\"dataframe\">\n",
       "  <thead>\n",
       "    <tr style=\"text-align: right;\">\n",
       "      <th></th>\n",
       "      <th>contcod</th>\n",
       "      <th>country</th>\n",
       "      <th>year</th>\n",
       "      <th>region</th>\n",
       "      <th>Dexpend</th>\n",
       "      <th>whole</th>\n",
       "      <th>group</th>\n",
       "      <th>Dinc</th>\n",
       "      <th>pop</th>\n",
       "      <th>percentile</th>\n",
       "      <th>ppp_factor</th>\n",
       "      <th>ppp_2005</th>\n",
       "    </tr>\n",
       "  </thead>\n",
       "  <tbody>\n",
       "    <tr>\n",
       "      <th>1051</th>\n",
       "      <td>BRA</td>\n",
       "      <td>27</td>\n",
       "      <td>2005</td>\n",
       "      <td>3</td>\n",
       "      <td>0</td>\n",
       "      <td>1</td>\n",
       "      <td>1</td>\n",
       "      <td>137.849854</td>\n",
       "      <td>9.3415</td>\n",
       "      <td>1.430303</td>\n",
       "      <td>1.060634</td>\n",
       "      <td>129.969242</td>\n",
       "    </tr>\n",
       "    <tr>\n",
       "      <th>1052</th>\n",
       "      <td>BRA</td>\n",
       "      <td>27</td>\n",
       "      <td>2005</td>\n",
       "      <td>3</td>\n",
       "      <td>0</td>\n",
       "      <td>1</td>\n",
       "      <td>2</td>\n",
       "      <td>567.420593</td>\n",
       "      <td>9.3415</td>\n",
       "      <td>14.158927</td>\n",
       "      <td>1.060634</td>\n",
       "      <td>534.982249</td>\n",
       "    </tr>\n",
       "    <tr>\n",
       "      <th>1053</th>\n",
       "      <td>BRA</td>\n",
       "      <td>27</td>\n",
       "      <td>2005</td>\n",
       "      <td>3</td>\n",
       "      <td>0</td>\n",
       "      <td>1</td>\n",
       "      <td>3</td>\n",
       "      <td>840.334290</td>\n",
       "      <td>9.3415</td>\n",
       "      <td>24.110783</td>\n",
       "      <td>1.060634</td>\n",
       "      <td>792.293994</td>\n",
       "    </tr>\n",
       "  </tbody>\n",
       "</table>\n",
       "</div>"
      ],
      "text/plain": [
       "     contcod country  year  region  Dexpend  whole  group        Dinc     pop  \\\n",
       "1051     BRA      27  2005       3        0      1      1  137.849854  9.3415   \n",
       "1052     BRA      27  2005       3        0      1      2  567.420593  9.3415   \n",
       "1053     BRA      27  2005       3        0      1      3  840.334290  9.3415   \n",
       "\n",
       "      percentile  ppp_factor    ppp_2005  \n",
       "1051    1.430303    1.060634  129.969242  \n",
       "1052   14.158927    1.060634  534.982249  \n",
       "1053   24.110783    1.060634  792.293994  "
      ]
     },
     "execution_count": 40,
     "metadata": {},
     "output_type": "execute_result"
    }
   ],
   "source": [
    "only2005.head(3)"
   ]
  },
  {
   "cell_type": "code",
   "execution_count": 41,
   "metadata": {},
   "outputs": [
    {
     "data": {
      "text/html": [
       "<div>\n",
       "<style scoped>\n",
       "    .dataframe tbody tr th:only-of-type {\n",
       "        vertical-align: middle;\n",
       "    }\n",
       "\n",
       "    .dataframe tbody tr th {\n",
       "        vertical-align: top;\n",
       "    }\n",
       "\n",
       "    .dataframe thead th {\n",
       "        text-align: right;\n",
       "    }\n",
       "</style>\n",
       "<table border=\"1\" class=\"dataframe\">\n",
       "  <thead>\n",
       "    <tr style=\"text-align: right;\">\n",
       "      <th></th>\n",
       "      <th>contcod</th>\n",
       "      <th>country</th>\n",
       "      <th>year</th>\n",
       "      <th>region</th>\n",
       "      <th>Dexpend</th>\n",
       "      <th>whole</th>\n",
       "      <th>group</th>\n",
       "      <th>Dinc</th>\n",
       "      <th>pop</th>\n",
       "      <th>percentile</th>\n",
       "      <th>ppp_factor</th>\n",
       "      <th>ppp_2005</th>\n",
       "    </tr>\n",
       "  </thead>\n",
       "  <tbody>\n",
       "    <tr>\n",
       "      <th>4171</th>\n",
       "      <td>IND</td>\n",
       "      <td>89</td>\n",
       "      <td>2005</td>\n",
       "      <td>2</td>\n",
       "      <td>1</td>\n",
       "      <td>1</td>\n",
       "      <td>18</td>\n",
       "      <td>11602.4</td>\n",
       "      <td>54.729</td>\n",
       "      <td>86.772376</td>\n",
       "      <td>10.423281</td>\n",
       "      <td>1113.123546</td>\n",
       "    </tr>\n",
       "    <tr>\n",
       "      <th>4172</th>\n",
       "      <td>IND</td>\n",
       "      <td>89</td>\n",
       "      <td>2005</td>\n",
       "      <td>2</td>\n",
       "      <td>1</td>\n",
       "      <td>1</td>\n",
       "      <td>19</td>\n",
       "      <td>14546.9</td>\n",
       "      <td>54.729</td>\n",
       "      <td>90.164465</td>\n",
       "      <td>10.423281</td>\n",
       "      <td>1395.616158</td>\n",
       "    </tr>\n",
       "    <tr>\n",
       "      <th>4173</th>\n",
       "      <td>IND</td>\n",
       "      <td>89</td>\n",
       "      <td>2005</td>\n",
       "      <td>2</td>\n",
       "      <td>1</td>\n",
       "      <td>1</td>\n",
       "      <td>20</td>\n",
       "      <td>28810.1</td>\n",
       "      <td>54.729</td>\n",
       "      <td>97.182436</td>\n",
       "      <td>10.423281</td>\n",
       "      <td>2764.014400</td>\n",
       "    </tr>\n",
       "  </tbody>\n",
       "</table>\n",
       "</div>"
      ],
      "text/plain": [
       "     contcod country  year  region  Dexpend  whole  group     Dinc     pop  \\\n",
       "4171     IND      89  2005       2        1      1     18  11602.4  54.729   \n",
       "4172     IND      89  2005       2        1      1     19  14546.9  54.729   \n",
       "4173     IND      89  2005       2        1      1     20  28810.1  54.729   \n",
       "\n",
       "      percentile  ppp_factor     ppp_2005  \n",
       "4171   86.772376   10.423281  1113.123546  \n",
       "4172   90.164465   10.423281  1395.616158  \n",
       "4173   97.182436   10.423281  2764.014400  "
      ]
     },
     "execution_count": 41,
     "metadata": {},
     "output_type": "execute_result"
    }
   ],
   "source": [
    "only2005.tail(3)"
   ]
  },
  {
   "cell_type": "code",
   "execution_count": 42,
   "metadata": {},
   "outputs": [
    {
     "data": {
      "text/html": [
       "<div>\n",
       "<style scoped>\n",
       "    .dataframe tbody tr th:only-of-type {\n",
       "        vertical-align: middle;\n",
       "    }\n",
       "\n",
       "    .dataframe tbody tr th {\n",
       "        vertical-align: top;\n",
       "    }\n",
       "\n",
       "    .dataframe thead th {\n",
       "        text-align: right;\n",
       "    }\n",
       "</style>\n",
       "<table border=\"1\" class=\"dataframe\">\n",
       "  <thead>\n",
       "    <tr style=\"text-align: right;\">\n",
       "      <th></th>\n",
       "      <th>contcod</th>\n",
       "      <th>pop</th>\n",
       "      <th>Dinc</th>\n",
       "      <th>percentile</th>\n",
       "    </tr>\n",
       "  </thead>\n",
       "  <tbody>\n",
       "    <tr>\n",
       "      <th>2236</th>\n",
       "      <td>DEU</td>\n",
       "      <td>4.124</td>\n",
       "      <td>3909.0</td>\n",
       "      <td>66.576520</td>\n",
       "    </tr>\n",
       "    <tr>\n",
       "      <th>2237</th>\n",
       "      <td>DEU</td>\n",
       "      <td>4.124</td>\n",
       "      <td>5723.0</td>\n",
       "      <td>74.275849</td>\n",
       "    </tr>\n",
       "    <tr>\n",
       "      <th>2238</th>\n",
       "      <td>DEU</td>\n",
       "      <td>4.124</td>\n",
       "      <td>6846.0</td>\n",
       "      <td>77.628908</td>\n",
       "    </tr>\n",
       "  </tbody>\n",
       "</table>\n",
       "</div>"
      ],
      "text/plain": [
       "     contcod    pop    Dinc  percentile\n",
       "2236     DEU  4.124  3909.0   66.576520\n",
       "2237     DEU  4.124  5723.0   74.275849\n",
       "2238     DEU  4.124  6846.0   77.628908"
      ]
     },
     "execution_count": 42,
     "metadata": {},
     "output_type": "execute_result"
    }
   ],
   "source": [
    "only2005[only2005['contcod'] == 'DEU'][['contcod', 'pop', 'Dinc', 'percentile']].head(3)"
   ]
  },
  {
   "cell_type": "code",
   "execution_count": 43,
   "metadata": {},
   "outputs": [
    {
     "data": {
      "text/html": [
       "<div>\n",
       "<style scoped>\n",
       "    .dataframe tbody tr th:only-of-type {\n",
       "        vertical-align: middle;\n",
       "    }\n",
       "\n",
       "    .dataframe tbody tr th {\n",
       "        vertical-align: top;\n",
       "    }\n",
       "\n",
       "    .dataframe thead th {\n",
       "        text-align: right;\n",
       "    }\n",
       "</style>\n",
       "<table border=\"1\" class=\"dataframe\">\n",
       "  <thead>\n",
       "    <tr style=\"text-align: right;\">\n",
       "      <th></th>\n",
       "      <th>contcod</th>\n",
       "      <th>pop</th>\n",
       "      <th>Dinc</th>\n",
       "      <th>percentile</th>\n",
       "    </tr>\n",
       "  </thead>\n",
       "  <tbody>\n",
       "    <tr>\n",
       "      <th>4154</th>\n",
       "      <td>IND</td>\n",
       "      <td>54.729</td>\n",
       "      <td>2473.5</td>\n",
       "      <td>55.951485</td>\n",
       "    </tr>\n",
       "    <tr>\n",
       "      <th>4155</th>\n",
       "      <td>IND</td>\n",
       "      <td>54.729</td>\n",
       "      <td>3116.2</td>\n",
       "      <td>61.570595</td>\n",
       "    </tr>\n",
       "    <tr>\n",
       "      <th>4156</th>\n",
       "      <td>IND</td>\n",
       "      <td>54.729</td>\n",
       "      <td>3496.2</td>\n",
       "      <td>64.247171</td>\n",
       "    </tr>\n",
       "  </tbody>\n",
       "</table>\n",
       "</div>"
      ],
      "text/plain": [
       "     contcod     pop    Dinc  percentile\n",
       "4154     IND  54.729  2473.5   55.951485\n",
       "4155     IND  54.729  3116.2   61.570595\n",
       "4156     IND  54.729  3496.2   64.247171"
      ]
     },
     "execution_count": 43,
     "metadata": {},
     "output_type": "execute_result"
    }
   ],
   "source": [
    "only2005[only2005['contcod'] == 'IND'][['contcod', 'pop', 'Dinc', 'percentile']].head(3)"
   ]
  },
  {
   "cell_type": "markdown",
   "metadata": {},
   "source": [
    "Now let's convert `ppp_2005` to `ppp_percentile`"
   ]
  },
  {
   "cell_type": "code",
   "execution_count": 44,
   "metadata": {},
   "outputs": [
    {
     "name": "stderr",
     "output_type": "stream",
     "text": [
      "/Library/Frameworks/Python.framework/Versions/3.7/lib/python3.7/site-packages/ipykernel_launcher.py:1: SettingWithCopyWarning: \n",
      "A value is trying to be set on a copy of a slice from a DataFrame.\n",
      "Try using .loc[row_indexer,col_indexer] = value instead\n",
      "\n",
      "See the caveats in the documentation: http://pandas.pydata.org/pandas-docs/stable/indexing.html#indexing-view-versus-copy\n",
      "  \"\"\"Entry point for launching an IPython kernel.\n"
     ]
    }
   ],
   "source": [
    "only2005['ppp_percentile'] = only2005.apply(lambda x: get_percentile(x['ppp_2005']), axis=1)"
   ]
  },
  {
   "cell_type": "markdown",
   "metadata": {},
   "source": [
    "Let's graph again to see what we have:"
   ]
  },
  {
   "cell_type": "code",
   "execution_count": 45,
   "metadata": {},
   "outputs": [
    {
     "data": {
      "image/png": "[encoded data removed]",
      "text/plain": [
       "<Figure size 438.225x360 with 1 Axes>"
      ]
     },
     "metadata": {},
     "output_type": "display_data"
    }
   ],
   "source": [
    "sns.relplot(x=\"group\", y=\"ppp_percentile\", kind=\"line\", hue=\"contcod\", legend=\"full\", data=only2005);"
   ]
  },
  {
   "cell_type": "markdown",
   "metadata": {},
   "source": [
    "It now looks how it should except for China (notice the rightmost peak has a sharp bend compared to the graph from Branko Milanovic)"
   ]
  },
  {
   "cell_type": "markdown",
   "metadata": {},
   "source": [
    "*WARNING* -- note that *China* has unequal population across its `pop` column (fractiles) \n",
    "\n",
    "This needs to be rectified before producing the final graph!"
   ]
  },
  {
   "cell_type": "code",
   "execution_count": 46,
   "metadata": {},
   "outputs": [
    {
     "data": {
      "text/html": [
       "<div>\n",
       "<style scoped>\n",
       "    .dataframe tbody tr th:only-of-type {\n",
       "        vertical-align: middle;\n",
       "    }\n",
       "\n",
       "    .dataframe tbody tr th {\n",
       "        vertical-align: top;\n",
       "    }\n",
       "\n",
       "    .dataframe thead th {\n",
       "        text-align: right;\n",
       "    }\n",
       "</style>\n",
       "<table border=\"1\" class=\"dataframe\">\n",
       "  <thead>\n",
       "    <tr style=\"text-align: right;\">\n",
       "      <th></th>\n",
       "      <th>contcod</th>\n",
       "      <th>pop</th>\n",
       "    </tr>\n",
       "  </thead>\n",
       "  <tbody>\n",
       "    <tr>\n",
       "      <th>1481</th>\n",
       "      <td>CHN</td>\n",
       "      <td>39.917702</td>\n",
       "    </tr>\n",
       "    <tr>\n",
       "      <th>1482</th>\n",
       "      <td>CHN</td>\n",
       "      <td>39.004551</td>\n",
       "    </tr>\n",
       "    <tr>\n",
       "      <th>1483</th>\n",
       "      <td>CHN</td>\n",
       "      <td>39.395901</td>\n",
       "    </tr>\n",
       "    <tr>\n",
       "      <th>1484</th>\n",
       "      <td>CHN</td>\n",
       "      <td>39.917702</td>\n",
       "    </tr>\n",
       "    <tr>\n",
       "      <th>1485</th>\n",
       "      <td>CHN</td>\n",
       "      <td>40.700401</td>\n",
       "    </tr>\n",
       "    <tr>\n",
       "      <th>1486</th>\n",
       "      <td>CHN</td>\n",
       "      <td>41.483101</td>\n",
       "    </tr>\n",
       "    <tr>\n",
       "      <th>1487</th>\n",
       "      <td>CHN</td>\n",
       "      <td>42.526699</td>\n",
       "    </tr>\n",
       "    <tr>\n",
       "      <th>1488</th>\n",
       "      <td>CHN</td>\n",
       "      <td>43.700748</td>\n",
       "    </tr>\n",
       "    <tr>\n",
       "      <th>1489</th>\n",
       "      <td>CHN</td>\n",
       "      <td>45.266151</td>\n",
       "    </tr>\n",
       "    <tr>\n",
       "      <th>1490</th>\n",
       "      <td>CHN</td>\n",
       "      <td>46.831551</td>\n",
       "    </tr>\n",
       "    <tr>\n",
       "      <th>1491</th>\n",
       "      <td>CHN</td>\n",
       "      <td>48.657848</td>\n",
       "    </tr>\n",
       "    <tr>\n",
       "      <th>1492</th>\n",
       "      <td>CHN</td>\n",
       "      <td>51.136398</td>\n",
       "    </tr>\n",
       "    <tr>\n",
       "      <th>1493</th>\n",
       "      <td>CHN</td>\n",
       "      <td>53.745399</td>\n",
       "    </tr>\n",
       "    <tr>\n",
       "      <th>1494</th>\n",
       "      <td>CHN</td>\n",
       "      <td>57.397999</td>\n",
       "    </tr>\n",
       "    <tr>\n",
       "      <th>1495</th>\n",
       "      <td>CHN</td>\n",
       "      <td>62.224651</td>\n",
       "    </tr>\n",
       "    <tr>\n",
       "      <th>1496</th>\n",
       "      <td>CHN</td>\n",
       "      <td>69.268951</td>\n",
       "    </tr>\n",
       "    <tr>\n",
       "      <th>1497</th>\n",
       "      <td>CHN</td>\n",
       "      <td>80.226753</td>\n",
       "    </tr>\n",
       "    <tr>\n",
       "      <th>1498</th>\n",
       "      <td>CHN</td>\n",
       "      <td>99.924698</td>\n",
       "    </tr>\n",
       "    <tr>\n",
       "      <th>1499</th>\n",
       "      <td>CHN</td>\n",
       "      <td>142.320953</td>\n",
       "    </tr>\n",
       "    <tr>\n",
       "      <th>1500</th>\n",
       "      <td>CHN</td>\n",
       "      <td>220.851852</td>\n",
       "    </tr>\n",
       "  </tbody>\n",
       "</table>\n",
       "</div>"
      ],
      "text/plain": [
       "     contcod         pop\n",
       "1481     CHN   39.917702\n",
       "1482     CHN   39.004551\n",
       "1483     CHN   39.395901\n",
       "1484     CHN   39.917702\n",
       "1485     CHN   40.700401\n",
       "1486     CHN   41.483101\n",
       "1487     CHN   42.526699\n",
       "1488     CHN   43.700748\n",
       "1489     CHN   45.266151\n",
       "1490     CHN   46.831551\n",
       "1491     CHN   48.657848\n",
       "1492     CHN   51.136398\n",
       "1493     CHN   53.745399\n",
       "1494     CHN   57.397999\n",
       "1495     CHN   62.224651\n",
       "1496     CHN   69.268951\n",
       "1497     CHN   80.226753\n",
       "1498     CHN   99.924698\n",
       "1499     CHN  142.320953\n",
       "1500     CHN  220.851852"
      ]
     },
     "execution_count": 46,
     "metadata": {},
     "output_type": "execute_result"
    }
   ],
   "source": [
    "only2005[only2005['contcod'] == 'CHN'][['contcod', 'pop']].head(20)"
   ]
  },
  {
   "cell_type": "markdown",
   "metadata": {},
   "source": [
    "Let's fix data for China! Plan:\n",
    "\n",
    "1. generate a cumulative population column from `pop`\n",
    "2. compute total population from `pop`\n",
    "3. generate a column with the midpoints of each `pop` as percentile location. "
   ]
  },
  {
   "cell_type": "markdown",
   "metadata": {},
   "source": [
    "We'll eventually set up a for loop that will iterate through each country in the `countries` variable.\n",
    "\n",
    "And for each, it will generate the correct values in the new columns.\n",
    "\n",
    "So we'll want helper functions that take in the _country code_ (list item from `countries`)"
   ]
  },
  {
   "cell_type": "code",
   "execution_count": 47,
   "metadata": {},
   "outputs": [],
   "source": [
    "def compute_total_pop(country_code):\n",
    "  return only2005[only2005['contcod'] == country_code]['pop'].sum()"
   ]
  },
  {
   "cell_type": "code",
   "execution_count": 48,
   "metadata": {},
   "outputs": [
    {
     "data": {
      "text/plain": [
       "1304.500011444092"
      ]
     },
     "execution_count": 48,
     "metadata": {},
     "output_type": "execute_result"
    }
   ],
   "source": [
    "compute_total_pop('CHN')"
   ]
  },
  {
   "cell_type": "code",
   "execution_count": 49,
   "metadata": {},
   "outputs": [],
   "source": [
    "def create_cum_pop_column(country_code):\n",
    "  only2005['cum_pop'] = only2005.groupby('contcod')['pop'].cumsum()"
   ]
  },
  {
   "cell_type": "code",
   "execution_count": 50,
   "metadata": {},
   "outputs": [
    {
     "name": "stderr",
     "output_type": "stream",
     "text": [
      "/Library/Frameworks/Python.framework/Versions/3.7/lib/python3.7/site-packages/ipykernel_launcher.py:2: SettingWithCopyWarning: \n",
      "A value is trying to be set on a copy of a slice from a DataFrame.\n",
      "Try using .loc[row_indexer,col_indexer] = value instead\n",
      "\n",
      "See the caveats in the documentation: http://pandas.pydata.org/pandas-docs/stable/indexing.html#indexing-view-versus-copy\n",
      "  \n"
     ]
    }
   ],
   "source": [
    "create_cum_pop_column('CHN')"
   ]
  },
  {
   "cell_type": "code",
   "execution_count": 51,
   "metadata": {},
   "outputs": [
    {
     "data": {
      "text/html": [
       "<div>\n",
       "<style scoped>\n",
       "    .dataframe tbody tr th:only-of-type {\n",
       "        vertical-align: middle;\n",
       "    }\n",
       "\n",
       "    .dataframe tbody tr th {\n",
       "        vertical-align: top;\n",
       "    }\n",
       "\n",
       "    .dataframe thead th {\n",
       "        text-align: right;\n",
       "    }\n",
       "</style>\n",
       "<table border=\"1\" class=\"dataframe\">\n",
       "  <thead>\n",
       "    <tr style=\"text-align: right;\">\n",
       "      <th></th>\n",
       "      <th>contcod</th>\n",
       "      <th>pop</th>\n",
       "      <th>cum_pop</th>\n",
       "    </tr>\n",
       "  </thead>\n",
       "  <tbody>\n",
       "    <tr>\n",
       "      <th>1481</th>\n",
       "      <td>CHN</td>\n",
       "      <td>39.917702</td>\n",
       "      <td>39.917702</td>\n",
       "    </tr>\n",
       "    <tr>\n",
       "      <th>1482</th>\n",
       "      <td>CHN</td>\n",
       "      <td>39.004551</td>\n",
       "      <td>78.922253</td>\n",
       "    </tr>\n",
       "    <tr>\n",
       "      <th>1483</th>\n",
       "      <td>CHN</td>\n",
       "      <td>39.395901</td>\n",
       "      <td>118.318153</td>\n",
       "    </tr>\n",
       "    <tr>\n",
       "      <th>1484</th>\n",
       "      <td>CHN</td>\n",
       "      <td>39.917702</td>\n",
       "      <td>158.235855</td>\n",
       "    </tr>\n",
       "    <tr>\n",
       "      <th>1485</th>\n",
       "      <td>CHN</td>\n",
       "      <td>40.700401</td>\n",
       "      <td>198.936256</td>\n",
       "    </tr>\n",
       "    <tr>\n",
       "      <th>1486</th>\n",
       "      <td>CHN</td>\n",
       "      <td>41.483101</td>\n",
       "      <td>240.419357</td>\n",
       "    </tr>\n",
       "    <tr>\n",
       "      <th>1487</th>\n",
       "      <td>CHN</td>\n",
       "      <td>42.526699</td>\n",
       "      <td>282.946056</td>\n",
       "    </tr>\n",
       "    <tr>\n",
       "      <th>1488</th>\n",
       "      <td>CHN</td>\n",
       "      <td>43.700748</td>\n",
       "      <td>326.646805</td>\n",
       "    </tr>\n",
       "    <tr>\n",
       "      <th>1489</th>\n",
       "      <td>CHN</td>\n",
       "      <td>45.266151</td>\n",
       "      <td>371.912956</td>\n",
       "    </tr>\n",
       "    <tr>\n",
       "      <th>1490</th>\n",
       "      <td>CHN</td>\n",
       "      <td>46.831551</td>\n",
       "      <td>418.744507</td>\n",
       "    </tr>\n",
       "    <tr>\n",
       "      <th>1491</th>\n",
       "      <td>CHN</td>\n",
       "      <td>48.657848</td>\n",
       "      <td>467.402355</td>\n",
       "    </tr>\n",
       "    <tr>\n",
       "      <th>1492</th>\n",
       "      <td>CHN</td>\n",
       "      <td>51.136398</td>\n",
       "      <td>518.538754</td>\n",
       "    </tr>\n",
       "    <tr>\n",
       "      <th>1493</th>\n",
       "      <td>CHN</td>\n",
       "      <td>53.745399</td>\n",
       "      <td>572.284153</td>\n",
       "    </tr>\n",
       "    <tr>\n",
       "      <th>1494</th>\n",
       "      <td>CHN</td>\n",
       "      <td>57.397999</td>\n",
       "      <td>629.682152</td>\n",
       "    </tr>\n",
       "    <tr>\n",
       "      <th>1495</th>\n",
       "      <td>CHN</td>\n",
       "      <td>62.224651</td>\n",
       "      <td>691.906803</td>\n",
       "    </tr>\n",
       "    <tr>\n",
       "      <th>1496</th>\n",
       "      <td>CHN</td>\n",
       "      <td>69.268951</td>\n",
       "      <td>761.175755</td>\n",
       "    </tr>\n",
       "    <tr>\n",
       "      <th>1497</th>\n",
       "      <td>CHN</td>\n",
       "      <td>80.226753</td>\n",
       "      <td>841.402508</td>\n",
       "    </tr>\n",
       "    <tr>\n",
       "      <th>1498</th>\n",
       "      <td>CHN</td>\n",
       "      <td>99.924698</td>\n",
       "      <td>941.327206</td>\n",
       "    </tr>\n",
       "    <tr>\n",
       "      <th>1499</th>\n",
       "      <td>CHN</td>\n",
       "      <td>142.320953</td>\n",
       "      <td>1083.648159</td>\n",
       "    </tr>\n",
       "    <tr>\n",
       "      <th>1500</th>\n",
       "      <td>CHN</td>\n",
       "      <td>220.851852</td>\n",
       "      <td>1304.500011</td>\n",
       "    </tr>\n",
       "  </tbody>\n",
       "</table>\n",
       "</div>"
      ],
      "text/plain": [
       "     contcod         pop      cum_pop\n",
       "1481     CHN   39.917702    39.917702\n",
       "1482     CHN   39.004551    78.922253\n",
       "1483     CHN   39.395901   118.318153\n",
       "1484     CHN   39.917702   158.235855\n",
       "1485     CHN   40.700401   198.936256\n",
       "1486     CHN   41.483101   240.419357\n",
       "1487     CHN   42.526699   282.946056\n",
       "1488     CHN   43.700748   326.646805\n",
       "1489     CHN   45.266151   371.912956\n",
       "1490     CHN   46.831551   418.744507\n",
       "1491     CHN   48.657848   467.402355\n",
       "1492     CHN   51.136398   518.538754\n",
       "1493     CHN   53.745399   572.284153\n",
       "1494     CHN   57.397999   629.682152\n",
       "1495     CHN   62.224651   691.906803\n",
       "1496     CHN   69.268951   761.175755\n",
       "1497     CHN   80.226753   841.402508\n",
       "1498     CHN   99.924698   941.327206\n",
       "1499     CHN  142.320953  1083.648159\n",
       "1500     CHN  220.851852  1304.500011"
      ]
     },
     "execution_count": 51,
     "metadata": {},
     "output_type": "execute_result"
    }
   ],
   "source": [
    "only2005[only2005['contcod'] == 'CHN'][['contcod', 'pop', 'cum_pop']]"
   ]
  },
  {
   "cell_type": "markdown",
   "metadata": {},
   "source": [
    "The formula:\n",
    "1. divide cumulative population by total (to get percentile)\n",
    "2. subtract half the fractile size from the resulting number\n",
    "3. multiply by 100 to get percentile"
   ]
  },
  {
   "cell_type": "code",
   "execution_count": 52,
   "metadata": {},
   "outputs": [],
   "source": [
    "def create_cum_perc_column_apply(cum_pop, pop, country_code):\n",
    "  return 100 * (cum_pop / compute_total_pop(country_code) - pop / 2 / compute_total_pop(country_code))"
   ]
  },
  {
   "cell_type": "code",
   "execution_count": 54,
   "metadata": {},
   "outputs": [
    {
     "name": "stderr",
     "output_type": "stream",
     "text": [
      "/Library/Frameworks/Python.framework/Versions/3.7/lib/python3.7/site-packages/ipykernel_launcher.py:1: SettingWithCopyWarning: \n",
      "A value is trying to be set on a copy of a slice from a DataFrame.\n",
      "Try using .loc[row_indexer,col_indexer] = value instead\n",
      "\n",
      "See the caveats in the documentation: http://pandas.pydata.org/pandas-docs/stable/indexing.html#indexing-view-versus-copy\n",
      "  \"\"\"Entry point for launching an IPython kernel.\n"
     ]
    }
   ],
   "source": [
    "only2005['cum_perc'] = only2005.apply(lambda x: create_cum_perc_column_apply(x['cum_pop'], x['pop'], x['contcod']), axis=1)"
   ]
  },
  {
   "cell_type": "code",
   "execution_count": 56,
   "metadata": {},
   "outputs": [
    {
     "data": {
      "text/html": [
       "<div>\n",
       "<style scoped>\n",
       "    .dataframe tbody tr th:only-of-type {\n",
       "        vertical-align: middle;\n",
       "    }\n",
       "\n",
       "    .dataframe tbody tr th {\n",
       "        vertical-align: top;\n",
       "    }\n",
       "\n",
       "    .dataframe thead th {\n",
       "        text-align: right;\n",
       "    }\n",
       "</style>\n",
       "<table border=\"1\" class=\"dataframe\">\n",
       "  <thead>\n",
       "    <tr style=\"text-align: right;\">\n",
       "      <th></th>\n",
       "      <th>contcod</th>\n",
       "      <th>pop</th>\n",
       "      <th>cum_pop</th>\n",
       "      <th>cum_perc</th>\n",
       "    </tr>\n",
       "  </thead>\n",
       "  <tbody>\n",
       "    <tr>\n",
       "      <th>1481</th>\n",
       "      <td>CHN</td>\n",
       "      <td>39.917702</td>\n",
       "      <td>39.917702</td>\n",
       "      <td>1.530</td>\n",
       "    </tr>\n",
       "    <tr>\n",
       "      <th>1482</th>\n",
       "      <td>CHN</td>\n",
       "      <td>39.004551</td>\n",
       "      <td>78.922253</td>\n",
       "      <td>4.555</td>\n",
       "    </tr>\n",
       "    <tr>\n",
       "      <th>1483</th>\n",
       "      <td>CHN</td>\n",
       "      <td>39.395901</td>\n",
       "      <td>118.318153</td>\n",
       "      <td>7.560</td>\n",
       "    </tr>\n",
       "    <tr>\n",
       "      <th>1484</th>\n",
       "      <td>CHN</td>\n",
       "      <td>39.917702</td>\n",
       "      <td>158.235855</td>\n",
       "      <td>10.600</td>\n",
       "    </tr>\n",
       "    <tr>\n",
       "      <th>1485</th>\n",
       "      <td>CHN</td>\n",
       "      <td>40.700401</td>\n",
       "      <td>198.936256</td>\n",
       "      <td>13.690</td>\n",
       "    </tr>\n",
       "    <tr>\n",
       "      <th>1486</th>\n",
       "      <td>CHN</td>\n",
       "      <td>41.483101</td>\n",
       "      <td>240.419357</td>\n",
       "      <td>16.840</td>\n",
       "    </tr>\n",
       "    <tr>\n",
       "      <th>1487</th>\n",
       "      <td>CHN</td>\n",
       "      <td>42.526699</td>\n",
       "      <td>282.946056</td>\n",
       "      <td>20.060</td>\n",
       "    </tr>\n",
       "    <tr>\n",
       "      <th>1488</th>\n",
       "      <td>CHN</td>\n",
       "      <td>43.700748</td>\n",
       "      <td>326.646805</td>\n",
       "      <td>23.365</td>\n",
       "    </tr>\n",
       "    <tr>\n",
       "      <th>1489</th>\n",
       "      <td>CHN</td>\n",
       "      <td>45.266151</td>\n",
       "      <td>371.912956</td>\n",
       "      <td>26.775</td>\n",
       "    </tr>\n",
       "    <tr>\n",
       "      <th>1490</th>\n",
       "      <td>CHN</td>\n",
       "      <td>46.831551</td>\n",
       "      <td>418.744507</td>\n",
       "      <td>30.305</td>\n",
       "    </tr>\n",
       "    <tr>\n",
       "      <th>1491</th>\n",
       "      <td>CHN</td>\n",
       "      <td>48.657848</td>\n",
       "      <td>467.402355</td>\n",
       "      <td>33.965</td>\n",
       "    </tr>\n",
       "    <tr>\n",
       "      <th>1492</th>\n",
       "      <td>CHN</td>\n",
       "      <td>51.136398</td>\n",
       "      <td>518.538754</td>\n",
       "      <td>37.790</td>\n",
       "    </tr>\n",
       "    <tr>\n",
       "      <th>1493</th>\n",
       "      <td>CHN</td>\n",
       "      <td>53.745399</td>\n",
       "      <td>572.284153</td>\n",
       "      <td>41.810</td>\n",
       "    </tr>\n",
       "    <tr>\n",
       "      <th>1494</th>\n",
       "      <td>CHN</td>\n",
       "      <td>57.397999</td>\n",
       "      <td>629.682152</td>\n",
       "      <td>46.070</td>\n",
       "    </tr>\n",
       "    <tr>\n",
       "      <th>1495</th>\n",
       "      <td>CHN</td>\n",
       "      <td>62.224651</td>\n",
       "      <td>691.906803</td>\n",
       "      <td>50.655</td>\n",
       "    </tr>\n",
       "    <tr>\n",
       "      <th>1496</th>\n",
       "      <td>CHN</td>\n",
       "      <td>69.268951</td>\n",
       "      <td>761.175755</td>\n",
       "      <td>55.695</td>\n",
       "    </tr>\n",
       "    <tr>\n",
       "      <th>1497</th>\n",
       "      <td>CHN</td>\n",
       "      <td>80.226753</td>\n",
       "      <td>841.402508</td>\n",
       "      <td>61.425</td>\n",
       "    </tr>\n",
       "    <tr>\n",
       "      <th>1498</th>\n",
       "      <td>CHN</td>\n",
       "      <td>99.924698</td>\n",
       "      <td>941.327206</td>\n",
       "      <td>68.330</td>\n",
       "    </tr>\n",
       "    <tr>\n",
       "      <th>1499</th>\n",
       "      <td>CHN</td>\n",
       "      <td>142.320953</td>\n",
       "      <td>1083.648159</td>\n",
       "      <td>77.615</td>\n",
       "    </tr>\n",
       "    <tr>\n",
       "      <th>1500</th>\n",
       "      <td>CHN</td>\n",
       "      <td>220.851852</td>\n",
       "      <td>1304.500011</td>\n",
       "      <td>91.535</td>\n",
       "    </tr>\n",
       "  </tbody>\n",
       "</table>\n",
       "</div>"
      ],
      "text/plain": [
       "     contcod         pop      cum_pop  cum_perc\n",
       "1481     CHN   39.917702    39.917702     1.530\n",
       "1482     CHN   39.004551    78.922253     4.555\n",
       "1483     CHN   39.395901   118.318153     7.560\n",
       "1484     CHN   39.917702   158.235855    10.600\n",
       "1485     CHN   40.700401   198.936256    13.690\n",
       "1486     CHN   41.483101   240.419357    16.840\n",
       "1487     CHN   42.526699   282.946056    20.060\n",
       "1488     CHN   43.700748   326.646805    23.365\n",
       "1489     CHN   45.266151   371.912956    26.775\n",
       "1490     CHN   46.831551   418.744507    30.305\n",
       "1491     CHN   48.657848   467.402355    33.965\n",
       "1492     CHN   51.136398   518.538754    37.790\n",
       "1493     CHN   53.745399   572.284153    41.810\n",
       "1494     CHN   57.397999   629.682152    46.070\n",
       "1495     CHN   62.224651   691.906803    50.655\n",
       "1496     CHN   69.268951   761.175755    55.695\n",
       "1497     CHN   80.226753   841.402508    61.425\n",
       "1498     CHN   99.924698   941.327206    68.330\n",
       "1499     CHN  142.320953  1083.648159    77.615\n",
       "1500     CHN  220.851852  1304.500011    91.535"
      ]
     },
     "execution_count": 56,
     "metadata": {},
     "output_type": "execute_result"
    }
   ],
   "source": [
    "only2005[only2005['contcod'] == 'CHN'][['contcod', 'pop', 'cum_pop', 'cum_perc']]"
   ]
  },
  {
   "cell_type": "code",
   "execution_count": 57,
   "metadata": {},
   "outputs": [
    {
     "data": {
      "text/html": [
       "<div>\n",
       "<style scoped>\n",
       "    .dataframe tbody tr th:only-of-type {\n",
       "        vertical-align: middle;\n",
       "    }\n",
       "\n",
       "    .dataframe tbody tr th {\n",
       "        vertical-align: top;\n",
       "    }\n",
       "\n",
       "    .dataframe thead th {\n",
       "        text-align: right;\n",
       "    }\n",
       "</style>\n",
       "<table border=\"1\" class=\"dataframe\">\n",
       "  <thead>\n",
       "    <tr style=\"text-align: right;\">\n",
       "      <th></th>\n",
       "      <th>contcod</th>\n",
       "      <th>country</th>\n",
       "      <th>year</th>\n",
       "      <th>region</th>\n",
       "      <th>Dexpend</th>\n",
       "      <th>whole</th>\n",
       "      <th>group</th>\n",
       "      <th>Dinc</th>\n",
       "      <th>pop</th>\n",
       "      <th>percentile</th>\n",
       "      <th>ppp_factor</th>\n",
       "      <th>ppp_2005</th>\n",
       "      <th>ppp_percentile</th>\n",
       "      <th>cum_pop</th>\n",
       "      <th>cum_perc</th>\n",
       "    </tr>\n",
       "  </thead>\n",
       "  <tbody>\n",
       "    <tr>\n",
       "      <th>1051</th>\n",
       "      <td>BRA</td>\n",
       "      <td>27</td>\n",
       "      <td>2005</td>\n",
       "      <td>3</td>\n",
       "      <td>0</td>\n",
       "      <td>1</td>\n",
       "      <td>1</td>\n",
       "      <td>137.849854</td>\n",
       "      <td>9.3415</td>\n",
       "      <td>1.430303</td>\n",
       "      <td>1.060634</td>\n",
       "      <td>129.969242</td>\n",
       "      <td>1.131979</td>\n",
       "      <td>9.341500</td>\n",
       "      <td>2.5</td>\n",
       "    </tr>\n",
       "    <tr>\n",
       "      <th>1052</th>\n",
       "      <td>BRA</td>\n",
       "      <td>27</td>\n",
       "      <td>2005</td>\n",
       "      <td>3</td>\n",
       "      <td>0</td>\n",
       "      <td>1</td>\n",
       "      <td>2</td>\n",
       "      <td>567.420593</td>\n",
       "      <td>9.3415</td>\n",
       "      <td>14.158927</td>\n",
       "      <td>1.060634</td>\n",
       "      <td>534.982249</td>\n",
       "      <td>13.458496</td>\n",
       "      <td>18.683001</td>\n",
       "      <td>7.5</td>\n",
       "    </tr>\n",
       "    <tr>\n",
       "      <th>1053</th>\n",
       "      <td>BRA</td>\n",
       "      <td>27</td>\n",
       "      <td>2005</td>\n",
       "      <td>3</td>\n",
       "      <td>0</td>\n",
       "      <td>1</td>\n",
       "      <td>3</td>\n",
       "      <td>840.334290</td>\n",
       "      <td>9.3415</td>\n",
       "      <td>24.110783</td>\n",
       "      <td>1.060634</td>\n",
       "      <td>792.293994</td>\n",
       "      <td>22.708882</td>\n",
       "      <td>28.024501</td>\n",
       "      <td>12.5</td>\n",
       "    </tr>\n",
       "    <tr>\n",
       "      <th>1054</th>\n",
       "      <td>BRA</td>\n",
       "      <td>27</td>\n",
       "      <td>2005</td>\n",
       "      <td>3</td>\n",
       "      <td>0</td>\n",
       "      <td>1</td>\n",
       "      <td>4</td>\n",
       "      <td>1084.301270</td>\n",
       "      <td>9.3415</td>\n",
       "      <td>31.495241</td>\n",
       "      <td>1.060634</td>\n",
       "      <td>1022.313850</td>\n",
       "      <td>29.782268</td>\n",
       "      <td>37.366001</td>\n",
       "      <td>17.5</td>\n",
       "    </tr>\n",
       "    <tr>\n",
       "      <th>1055</th>\n",
       "      <td>BRA</td>\n",
       "      <td>27</td>\n",
       "      <td>2005</td>\n",
       "      <td>3</td>\n",
       "      <td>0</td>\n",
       "      <td>1</td>\n",
       "      <td>5</td>\n",
       "      <td>1289.505127</td>\n",
       "      <td>9.3415</td>\n",
       "      <td>36.738497</td>\n",
       "      <td>1.060634</td>\n",
       "      <td>1215.786598</td>\n",
       "      <td>35.243307</td>\n",
       "      <td>46.707501</td>\n",
       "      <td>22.5</td>\n",
       "    </tr>\n",
       "  </tbody>\n",
       "</table>\n",
       "</div>"
      ],
      "text/plain": [
       "     contcod country  year  region  Dexpend  whole  group         Dinc  \\\n",
       "1051     BRA      27  2005       3        0      1      1   137.849854   \n",
       "1052     BRA      27  2005       3        0      1      2   567.420593   \n",
       "1053     BRA      27  2005       3        0      1      3   840.334290   \n",
       "1054     BRA      27  2005       3        0      1      4  1084.301270   \n",
       "1055     BRA      27  2005       3        0      1      5  1289.505127   \n",
       "\n",
       "         pop  percentile  ppp_factor     ppp_2005  ppp_percentile    cum_pop  \\\n",
       "1051  9.3415    1.430303    1.060634   129.969242        1.131979   9.341500   \n",
       "1052  9.3415   14.158927    1.060634   534.982249       13.458496  18.683001   \n",
       "1053  9.3415   24.110783    1.060634   792.293994       22.708882  28.024501   \n",
       "1054  9.3415   31.495241    1.060634  1022.313850       29.782268  37.366001   \n",
       "1055  9.3415   36.738497    1.060634  1215.786598       35.243307  46.707501   \n",
       "\n",
       "      cum_perc  \n",
       "1051       2.5  \n",
       "1052       7.5  \n",
       "1053      12.5  \n",
       "1054      17.5  \n",
       "1055      22.5  "
      ]
     },
     "execution_count": 57,
     "metadata": {},
     "output_type": "execute_result"
    }
   ],
   "source": [
    "only2005.head(5)"
   ]
  },
  {
   "cell_type": "markdown",
   "metadata": {},
   "source": [
    "Old chart for comparison:"
   ]
  },
  {
   "cell_type": "code",
   "execution_count": 58,
   "metadata": {},
   "outputs": [
    {
     "data": {
      "image/png": "[encoded data removed]",
      "text/plain": [
       "<Figure size 438.225x360 with 1 Axes>"
      ]
     },
     "metadata": {},
     "output_type": "display_data"
    }
   ],
   "source": [
    "sns.relplot(x=\"group\", y=\"ppp_percentile\", kind=\"line\", hue=\"contcod\", legend=\"full\", data=only2005);"
   ]
  },
  {
   "cell_type": "markdown",
   "metadata": {},
   "source": [
    "Plot again -- with `cum_perc`"
   ]
  },
  {
   "cell_type": "code",
   "execution_count": 65,
   "metadata": {},
   "outputs": [
    {
     "data": {
      "image/png": "[encoded data removed]",
      "text/plain": [
       "<Figure size 438.225x360 with 1 Axes>"
      ]
     },
     "metadata": {},
     "output_type": "display_data"
    }
   ],
   "source": [
    "sns.relplot(x=\"cum_perc\", y=\"ppp_percentile\", kind=\"line\", hue=\"contcod\", legend=\"full\", data=only2005);"
   ]
  },
  {
   "cell_type": "markdown",
   "metadata": {},
   "source": [
    "Success! The graph for China has been adjusted to include sizes of each fractile!"
   ]
  },
  {
   "cell_type": "code",
   "execution_count": 66,
   "metadata": {},
   "outputs": [
    {
     "name": "stdout",
     "output_type": "stream",
     "text": [
      "BRA\n",
      "IND\n",
      "CHN\n",
      "DEU\n"
     ]
    },
    {
     "name": "stderr",
     "output_type": "stream",
     "text": [
      "/Library/Frameworks/Python.framework/Versions/3.7/lib/python3.7/site-packages/ipykernel_launcher.py:2: SettingWithCopyWarning: \n",
      "A value is trying to be set on a copy of a slice from a DataFrame.\n",
      "Try using .loc[row_indexer,col_indexer] = value instead\n",
      "\n",
      "See the caveats in the documentation: http://pandas.pydata.org/pandas-docs/stable/indexing.html#indexing-view-versus-copy\n",
      "  \n"
     ]
    }
   ],
   "source": [
    "for country_code in countries:\n",
    "  print(country_code)\n",
    "  create_cum_pop_column(country_code)"
   ]
  },
  {
   "cell_type": "code",
   "execution_count": 67,
   "metadata": {},
   "outputs": [
    {
     "name": "stderr",
     "output_type": "stream",
     "text": [
      "/Library/Frameworks/Python.framework/Versions/3.7/lib/python3.7/site-packages/ipykernel_launcher.py:1: SettingWithCopyWarning: \n",
      "A value is trying to be set on a copy of a slice from a DataFrame.\n",
      "Try using .loc[row_indexer,col_indexer] = value instead\n",
      "\n",
      "See the caveats in the documentation: http://pandas.pydata.org/pandas-docs/stable/indexing.html#indexing-view-versus-copy\n",
      "  \"\"\"Entry point for launching an IPython kernel.\n"
     ]
    }
   ],
   "source": [
    "only2005['cum_perc'] = only2005.apply(lambda x: create_cum_perc_column_apply(x['cum_pop'], x['pop'], x['contcod']), axis=1)"
   ]
  },
  {
   "cell_type": "code",
   "execution_count": 68,
   "metadata": {},
   "outputs": [
    {
     "data": {
      "text/html": [
       "<div>\n",
       "<style scoped>\n",
       "    .dataframe tbody tr th:only-of-type {\n",
       "        vertical-align: middle;\n",
       "    }\n",
       "\n",
       "    .dataframe tbody tr th {\n",
       "        vertical-align: top;\n",
       "    }\n",
       "\n",
       "    .dataframe thead th {\n",
       "        text-align: right;\n",
       "    }\n",
       "</style>\n",
       "<table border=\"1\" class=\"dataframe\">\n",
       "  <thead>\n",
       "    <tr style=\"text-align: right;\">\n",
       "      <th></th>\n",
       "      <th>contcod</th>\n",
       "      <th>country</th>\n",
       "      <th>year</th>\n",
       "      <th>region</th>\n",
       "      <th>Dexpend</th>\n",
       "      <th>whole</th>\n",
       "      <th>group</th>\n",
       "      <th>Dinc</th>\n",
       "      <th>pop</th>\n",
       "      <th>percentile</th>\n",
       "      <th>ppp_factor</th>\n",
       "      <th>ppp_2005</th>\n",
       "      <th>ppp_percentile</th>\n",
       "      <th>cum_pop</th>\n",
       "      <th>cum_perc</th>\n",
       "    </tr>\n",
       "  </thead>\n",
       "  <tbody>\n",
       "    <tr>\n",
       "      <th>1051</th>\n",
       "      <td>BRA</td>\n",
       "      <td>27</td>\n",
       "      <td>2005</td>\n",
       "      <td>3</td>\n",
       "      <td>0</td>\n",
       "      <td>1</td>\n",
       "      <td>1</td>\n",
       "      <td>137.849854</td>\n",
       "      <td>9.3415</td>\n",
       "      <td>1.430303</td>\n",
       "      <td>1.060634</td>\n",
       "      <td>129.969242</td>\n",
       "      <td>1.131979</td>\n",
       "      <td>9.341500</td>\n",
       "      <td>2.5</td>\n",
       "    </tr>\n",
       "    <tr>\n",
       "      <th>1052</th>\n",
       "      <td>BRA</td>\n",
       "      <td>27</td>\n",
       "      <td>2005</td>\n",
       "      <td>3</td>\n",
       "      <td>0</td>\n",
       "      <td>1</td>\n",
       "      <td>2</td>\n",
       "      <td>567.420593</td>\n",
       "      <td>9.3415</td>\n",
       "      <td>14.158927</td>\n",
       "      <td>1.060634</td>\n",
       "      <td>534.982249</td>\n",
       "      <td>13.458496</td>\n",
       "      <td>18.683001</td>\n",
       "      <td>7.5</td>\n",
       "    </tr>\n",
       "    <tr>\n",
       "      <th>1053</th>\n",
       "      <td>BRA</td>\n",
       "      <td>27</td>\n",
       "      <td>2005</td>\n",
       "      <td>3</td>\n",
       "      <td>0</td>\n",
       "      <td>1</td>\n",
       "      <td>3</td>\n",
       "      <td>840.334290</td>\n",
       "      <td>9.3415</td>\n",
       "      <td>24.110783</td>\n",
       "      <td>1.060634</td>\n",
       "      <td>792.293994</td>\n",
       "      <td>22.708882</td>\n",
       "      <td>28.024501</td>\n",
       "      <td>12.5</td>\n",
       "    </tr>\n",
       "    <tr>\n",
       "      <th>1054</th>\n",
       "      <td>BRA</td>\n",
       "      <td>27</td>\n",
       "      <td>2005</td>\n",
       "      <td>3</td>\n",
       "      <td>0</td>\n",
       "      <td>1</td>\n",
       "      <td>4</td>\n",
       "      <td>1084.301270</td>\n",
       "      <td>9.3415</td>\n",
       "      <td>31.495241</td>\n",
       "      <td>1.060634</td>\n",
       "      <td>1022.313850</td>\n",
       "      <td>29.782268</td>\n",
       "      <td>37.366001</td>\n",
       "      <td>17.5</td>\n",
       "    </tr>\n",
       "    <tr>\n",
       "      <th>1055</th>\n",
       "      <td>BRA</td>\n",
       "      <td>27</td>\n",
       "      <td>2005</td>\n",
       "      <td>3</td>\n",
       "      <td>0</td>\n",
       "      <td>1</td>\n",
       "      <td>5</td>\n",
       "      <td>1289.505127</td>\n",
       "      <td>9.3415</td>\n",
       "      <td>36.738497</td>\n",
       "      <td>1.060634</td>\n",
       "      <td>1215.786598</td>\n",
       "      <td>35.243307</td>\n",
       "      <td>46.707501</td>\n",
       "      <td>22.5</td>\n",
       "    </tr>\n",
       "  </tbody>\n",
       "</table>\n",
       "</div>"
      ],
      "text/plain": [
       "     contcod country  year  region  Dexpend  whole  group         Dinc  \\\n",
       "1051     BRA      27  2005       3        0      1      1   137.849854   \n",
       "1052     BRA      27  2005       3        0      1      2   567.420593   \n",
       "1053     BRA      27  2005       3        0      1      3   840.334290   \n",
       "1054     BRA      27  2005       3        0      1      4  1084.301270   \n",
       "1055     BRA      27  2005       3        0      1      5  1289.505127   \n",
       "\n",
       "         pop  percentile  ppp_factor     ppp_2005  ppp_percentile    cum_pop  \\\n",
       "1051  9.3415    1.430303    1.060634   129.969242        1.131979   9.341500   \n",
       "1052  9.3415   14.158927    1.060634   534.982249       13.458496  18.683001   \n",
       "1053  9.3415   24.110783    1.060634   792.293994       22.708882  28.024501   \n",
       "1054  9.3415   31.495241    1.060634  1022.313850       29.782268  37.366001   \n",
       "1055  9.3415   36.738497    1.060634  1215.786598       35.243307  46.707501   \n",
       "\n",
       "      cum_perc  \n",
       "1051       2.5  \n",
       "1052       7.5  \n",
       "1053      12.5  \n",
       "1054      17.5  \n",
       "1055      22.5  "
      ]
     },
     "execution_count": 68,
     "metadata": {},
     "output_type": "execute_result"
    }
   ],
   "source": [
    "only2005.head(5)"
   ]
  },
  {
   "cell_type": "markdown",
   "metadata": {},
   "source": [
    "# Make it PRETTY!"
   ]
  },
  {
   "cell_type": "markdown",
   "metadata": {},
   "source": [
    "`group` goes from 1 to 20 but we'd rather portray it as percentiles.\n",
    "\n",
    "But we've created `cum_perc` already to correctly transform midpoints of `pop` into percentile."
   ]
  },
  {
   "cell_type": "markdown",
   "metadata": {},
   "source": [
    "US Poverty guidelines:\n",
    "\n",
    "https://aspe.hhs.gov/prior-hhs-poverty-guidelines-and-federal-register-references\n",
    "\n",
    "\n",
    "\n",
    "2005:  `$9,570`\n",
    "\n",
    "2013:  `$11,490`\n"
   ]
  },
  {
   "cell_type": "code",
   "execution_count": 74,
   "metadata": {},
   "outputs": [
    {
     "data": {
      "text/plain": [
       "83.66511227257979"
      ]
     },
     "execution_count": 74,
     "metadata": {},
     "output_type": "execute_result"
    }
   ],
   "source": [
    "get_percentile(9570)"
   ]
  },
  {
   "cell_type": "code",
   "execution_count": 75,
   "metadata": {},
   "outputs": [],
   "source": [
    "# Colorblind-friendly colors\n",
    "colors = [[0,0,0], [230/255,159/255,0], [86/255,180/255,233/255], [0,158/255,115/255]]\n",
    "#           [213/255,94/255,0], [0,114/255,178/255]]"
   ]
  },
  {
   "cell_type": "code",
   "execution_count": 76,
   "metadata": {},
   "outputs": [
    {
     "data": {
      "text/plain": [
       "Text(20, 75, 'INFORMATION MAY BE INACCURATE')"
      ]
     },
     "execution_count": 76,
     "metadata": {},
     "output_type": "execute_result"
    },
    {
     "data": {
      "image/png": "[encoded data removed]",
      "text/plain": [
       "<Figure size 1024x576 with 1 Axes>"
      ]
     },
     "metadata": {},
     "output_type": "display_data"
    }
   ],
   "source": [
    "chart = sns.relplot(\n",
    "  x=\"cum_perc\", \n",
    "  y=\"ppp_percentile\",\n",
    "  kind=\"line\", \n",
    "  hue=\"contcod\",\n",
    "  data=only2005,\n",
    "  palette=colors,\n",
    "  legend=False,\n",
    "  height=8,\n",
    "  aspect=16/9\n",
    ")\n",
    "\n",
    "chart.axes[0][0].yaxis.set_major_locator(ticker.MultipleLocator(10))\n",
    "chart.axes[0][0].yaxis.set_major_formatter(ticker.ScalarFormatter())\n",
    "\n",
    "chart.axes[0][0].xaxis.set_major_locator(ticker.MultipleLocator(5))\n",
    "chart.axes[0][0].xaxis.set_major_formatter(ticker.ScalarFormatter())\n",
    "\n",
    "chart.axes[0][0].set_title(\"\", fontsize=30)\n",
    "chart.axes[0][0].set_xlabel(\"\",fontsize=16)\n",
    "chart.axes[0][0].set_ylabel(\"\",fontsize=16)\n",
    "\n",
    "# empty character placed above the title to give title more space above\n",
    "chart.axes[0][0].text(\n",
    "  x = 0, \n",
    "  y = 123, \n",
    "  s = \" \")\n",
    "\n",
    "chart.axes[0][0].text(\n",
    "  x = -5.5, \n",
    "  y = 119, \n",
    "  s = \"World Income Distribution 2005\",\n",
    "     fontsize = 26, weight = 'bold', alpha = .75)\n",
    "\n",
    "chart.axes[0][0].text(\n",
    "  x = -5.5, \n",
    "  y = 112,\n",
    "  s = 'Country percentile vs world income percentile',\n",
    "  fontsize = 19, alpha = .85)\n",
    "\n",
    "chart.axes[0][0].text(\n",
    "  x = -5.5, \n",
    "  y = 106,\n",
    "  s = 'Compared via 2005 PPP (Purchasing Power Parity) units',\n",
    "  fontsize = 17, alpha = .85)\n",
    "\n",
    "ticks_x = chart.axes[0][0].get_xticks()\n",
    "xlabels = ['{:,.0f}'.format(x) + '%' for x in ticks_x]\n",
    "chart.set_xticklabels(xlabels)\n",
    "\n",
    "ticks_y = chart.axes[0][0].get_yticks()\n",
    "ylabels = ['{:,.0f}'.format(y) + '%' for y in ticks_y]\n",
    "chart.set_yticklabels(ylabels)\n",
    "\n",
    "chart.axes[0][0].axhline(y = 0,     color = 'black', linewidth = 1.3, alpha = .7)     # horizonal line on bottom\n",
    "chart.axes[0][0].axhline(y = 100,   color = 'black', linewidth = 1.3, alpha = .7)     # horizonal line on top\n",
    "\n",
    "chart.axes[0][0].axvline(x = 0,     color = 'black', linewidth = 1.3, alpha = .7)   # vertical line on left\n",
    "chart.axes[0][0].axvline(x = 100,   color = 'black', linewidth = 1.3, alpha = .7)   # vertical line on right\n",
    "\n",
    "# USD poverty threshold 2013 - horizontal\n",
    "chart.axes[0][0].axhline(y = 83.66, linestyle='dashed', color='gray', linewidth = 2, alpha = .3) \n",
    "chart.axes[0][0].text(\n",
    "  x = 1, \n",
    "  y = 85, \n",
    "  s = \"$9,570 - Individual US Poverty Line 2005\",\n",
    "  color = 'gray',\n",
    "  fontsize = 14, \n",
    "  alpha = .75)\n",
    "\n",
    "chart.axes[0][0].axhline(y = 50, linestyle='dashed', color='gray', linewidth = 2, alpha = .3) \n",
    "chart.axes[0][0].text(\n",
    "  x = 1, \n",
    "  y = 51.34, \n",
    "  s = \"$2000 - World Median Income (estimate)\",\n",
    "  color = 'gray',\n",
    "  fontsize = 14, \n",
    "  alpha = .75)\n",
    "\n",
    "chart.axes[0][0].tick_params(labelsize=14)\n",
    "\n",
    "chart.axes[0][0].set_ylim(-0.4, 100.1)\n",
    "chart.axes[0][0].set_xlim(-0.2, 100.1)\n",
    "\n",
    "# SIGNATURE BAR\n",
    "chart.axes[0][0].text(\n",
    "    x = -7, \n",
    "    y = -12.5,\n",
    "    s = ' Data Source: Branko Milanovic - World Income Distribution (2005)                                                                                                                       Licenced under CC-BY-SA by Boris Yakubchik (2019) ',\n",
    "    fontsize = 12, \n",
    "    color = '#f0f0f0', \n",
    "    backgroundcolor = 'grey')\n",
    "\n",
    "chart.axes[0][0].tick_params(axis='x', which='major', pad=15)\n",
    "chart.axes[0][0].tick_params(axis='y', which='major', pad=15)\n",
    "\n",
    "chart.axes[0][0].text(x = 40, y = 91, s = 'Germany', color = colors[2], weight = 'bold', rotation = 5.5,\n",
    "               backgroundcolor = '#f0f0f0')\n",
    "chart.axes[0][0].text(x = 45, y = 59.5, s = 'Brazil', color = colors[0], weight = 'bold', rotation = 19,\n",
    "              backgroundcolor = '#f0f0f0')\n",
    "chart.axes[0][0].text(x = 50, y = 40, s = 'China', color = colors[1], weight = 'bold', rotation = 13.5,\n",
    "              backgroundcolor = '#f0f0f0')\n",
    "chart.axes[0][0].text(x = 55, y = 18, s = 'India', color = colors[3], weight = 'bold', rotation = 8.5,\n",
    "              backgroundcolor = '#f0f0f0')\n",
    "\n",
    "chart.axes[0][0].text(x = 20, y= 80, s = 'DRAFT', color='black', weight='bold', rotation=-45, alpha=0.1, size=200)\n",
    "chart.axes[0][0].text(x = 20, y= 75, s = 'INFORMATION MAY BE INACCURATE', color='black', weight='bold', rotation=-45, alpha=0.1, size=30)"
   ]
  },
  {
   "cell_type": "code",
   "execution_count": null,
   "metadata": {},
   "outputs": [],
   "source": []
  }
 ],
 "metadata": {
  "kernelspec": {
   "display_name": "Python 3",
   "language": "python",
   "name": "python3"
  },
  "language_info": {
   "codemirror_mode": {
    "name": "ipython",
    "version": 3
   },
   "file_extension": ".py",
   "mimetype": "text/x-python",
   "name": "python",
   "nbconvert_exporter": "python",
   "pygments_lexer": "ipython3",
   "version": "3.7.0"
  }
 },
 "nbformat": 4,
 "nbformat_minor": 2
}
