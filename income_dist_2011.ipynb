{
 "cells": [
  {
   "cell_type": "markdown",
   "metadata": {},
   "source": [
    "# World Income Distribution 2011\n",
    "\n",
    "Comparing countries against each other via Global Income Distribution percentiles"
   ]
  },
  {
   "cell_type": "markdown",
   "metadata": {},
   "source": [
    "We have already gone through the exploration steps with 2005 data, so this document will skip some exploration and some explanation steps and just focus on the pipeline."
   ]
  },
  {
   "cell_type": "markdown",
   "metadata": {},
   "source": [
    "## Import"
   ]
  },
  {
   "cell_type": "code",
   "execution_count": 1,
   "metadata": {},
   "outputs": [],
   "source": [
    "import pandas as pd"
   ]
  },
  {
   "cell_type": "code",
   "execution_count": 2,
   "metadata": {},
   "outputs": [],
   "source": [
    "import matplotlib.ticker as ticker"
   ]
  },
  {
   "cell_type": "code",
   "execution_count": 3,
   "metadata": {},
   "outputs": [],
   "source": [
    "import matplotlib.style as style"
   ]
  },
  {
   "cell_type": "code",
   "execution_count": 4,
   "metadata": {},
   "outputs": [],
   "source": [
    "import seaborn as sns"
   ]
  },
  {
   "cell_type": "code",
   "execution_count": 5,
   "metadata": {},
   "outputs": [],
   "source": [
    "sns.set()"
   ]
  },
  {
   "cell_type": "code",
   "execution_count": 6,
   "metadata": {},
   "outputs": [],
   "source": [
    "style.use('fivethirtyeight')"
   ]
  },
  {
   "cell_type": "markdown",
   "metadata": {},
   "source": [
    "### Function to convert PPP dollars to percentiles"
   ]
  },
  {
   "cell_type": "markdown",
   "metadata": {},
   "source": [
    "We will use this function to convert PPP dollar input to percentile of world income (circa 2013)"
   ]
  },
  {
   "cell_type": "markdown",
   "metadata": {},
   "source": [
    "WARNING -- 2013 figures a little bit away from the 2009-2012 data (that we'll be plotting) so we'll need to note that to visitors of the webpage."
   ]
  },
  {
   "cell_type": "code",
   "execution_count": 7,
   "metadata": {},
   "outputs": [],
   "source": [
    "percentiles = pd.read_csv('figure5data.csv')"
   ]
  },
  {
   "cell_type": "code",
   "execution_count": 8,
   "metadata": {},
   "outputs": [],
   "source": [
    "percentiles.drop(percentiles.tail(1).index,inplace=True)"
   ]
  },
  {
   "cell_type": "code",
   "execution_count": 9,
   "metadata": {},
   "outputs": [],
   "source": [
    "def get_percentile(income):\n",
    "  for j in range(len(percentiles)):\n",
    "    if percentiles['midpoint'].iloc[j] > income:\n",
    "      return(percentiles.iloc[j]['c2013'])"
   ]
  },
  {
   "cell_type": "markdown",
   "metadata": {},
   "source": [
    "Example use, confirmation it works:"
   ]
  },
  {
   "cell_type": "code",
   "execution_count": 10,
   "metadata": {},
   "outputs": [
    {
     "data": {
      "text/plain": [
       "84.3856327945172"
      ]
     },
     "execution_count": 10,
     "metadata": {},
     "output_type": "execute_result"
    }
   ],
   "source": [
    "get_percentile(10000)"
   ]
  },
  {
   "cell_type": "markdown",
   "metadata": {},
   "source": [
    "## Explore"
   ]
  },
  {
   "cell_type": "markdown",
   "metadata": {},
   "source": [
    "Load the 2011 data!\n",
    "\n",
    "https://www.gc.cuny.edu/Page-Elements/Academics-Research-Centers-Initiatives/Centers-and-Institutes/Stone-Center-on-Socio-Economic-Inequality/Core-Faculty,-Team,-and-Affiliated-LIS-Scholars/Branko-Milanovic/Datasets"
   ]
  },
  {
   "cell_type": "code",
   "execution_count": 11,
   "metadata": {},
   "outputs": [],
   "source": [
    "df = pd.io.stata.read_stata('./DATA/ventile_2011_for_release_LCU.dta')"
   ]
  },
  {
   "cell_type": "markdown",
   "metadata": {},
   "source": [
    "All the countries for which we have data:"
   ]
  },
  {
   "cell_type": "code",
   "execution_count": 12,
   "metadata": {},
   "outputs": [
    {
     "data": {
      "text/plain": [
       "array([2012, 2010, 2011, 2009])"
      ]
     },
     "execution_count": 12,
     "metadata": {},
     "output_type": "execute_result"
    }
   ],
   "source": [
    "df['year_survey'].unique()"
   ]
  },
  {
   "cell_type": "markdown",
   "metadata": {},
   "source": [
    "Note! Dates come from 2009 - 20012 -- that should be noted in the write-up!"
   ]
  },
  {
   "cell_type": "code",
   "execution_count": 13,
   "metadata": {},
   "outputs": [
    {
     "data": {
      "text/plain": [
       "81.797676"
      ]
     },
     "execution_count": 13,
     "metadata": {},
     "output_type": "execute_result"
    }
   ],
   "source": [
    "df[df['contcod'] == 'DEU']['pop'].sum()"
   ]
  },
  {
   "cell_type": "markdown",
   "metadata": {},
   "source": [
    "Spot check of data checks out -- population of Germany was around 81 million"
   ]
  },
  {
   "cell_type": "code",
   "execution_count": 14,
   "metadata": {},
   "outputs": [
    {
     "data": {
      "text/plain": [
       "array(['ALB', 'ARG', 'ARM', 'AUS', 'AUT', 'BEN', 'BGD', 'BGR', 'BLR',\n",
       "       'BOL', 'BRA', 'BTN', 'BWA', 'CAN', 'CHL', 'CHN-R', 'CHN-U', 'COG',\n",
       "       'COL', 'CRI', 'CZE', 'DEU', 'DNK', 'DOM', 'ECU', 'EGY', 'ESP',\n",
       "       'EST', 'ETH', 'FIN', 'FRA', 'GBR', 'GEO', 'GHA', 'GIN', 'GNB',\n",
       "       'GRC', 'GTM', 'HND', 'HUN', 'IDN', 'IND', 'IRL', 'IRN', 'ISL',\n",
       "       'ISR', 'ITA', 'JOR', 'KAZ', 'KGZ', 'KHM', 'KOS', 'LAO', 'LKA',\n",
       "       'LSO', 'LTU', 'LUX', 'LVA', 'MDA', 'MDG', 'MEX', 'MKD', 'MLI',\n",
       "       'MNE', 'MNG', 'MUS', 'MWI', 'NAM', 'NER', 'NGA', 'NIC', 'NLD',\n",
       "       'NOR', 'NPL', 'NZL', 'PAK', 'PAN', 'PER', 'PHL', 'POL', 'PRY',\n",
       "       'PSE', 'ROU', 'RUS', 'RWA', 'SDN', 'SEN', 'SLE', 'SLV', 'SRB',\n",
       "       'SSD', 'STP', 'SVK', 'SVN', 'SWZ', 'TCD', 'TGO', 'THA', 'TJK',\n",
       "       'TUN', 'TUR', 'TWN', 'TZA', 'UGA', 'UKR', 'URY', 'USA', 'VEN',\n",
       "       'VNM', 'ZAF', 'ZMB'], dtype=object)"
      ]
     },
     "execution_count": 14,
     "metadata": {},
     "output_type": "execute_result"
    }
   ],
   "source": [
    "df['contcod'].unique()"
   ]
  },
  {
   "cell_type": "markdown",
   "metadata": {},
   "source": [
    "Country codes lookup: https://wits.worldbank.org/wits/wits/witshelp/content/codes/country_codes.htm"
   ]
  },
  {
   "cell_type": "markdown",
   "metadata": {},
   "source": [
    "### !!! WARNING !!!\n",
    "\n",
    "We'll need to treat China (`CHN`) uniquely -- as it exists only as two separate groups"
   ]
  },
  {
   "cell_type": "markdown",
   "metadata": {},
   "source": [
    "for now we will simply remove the rows!"
   ]
  },
  {
   "cell_type": "code",
   "execution_count": 15,
   "metadata": {},
   "outputs": [
    {
     "data": {
      "text/plain": [
       "(2220, 8)"
      ]
     },
     "execution_count": 15,
     "metadata": {},
     "output_type": "execute_result"
    }
   ],
   "source": [
    "df.shape"
   ]
  },
  {
   "cell_type": "markdown",
   "metadata": {},
   "source": [
    "after dropping we expect 40 fewer rows (resulting in 2180)"
   ]
  },
  {
   "cell_type": "code",
   "execution_count": 16,
   "metadata": {},
   "outputs": [
    {
     "data": {
      "text/plain": [
       "contcod           2220\n",
       "year_survey       2220\n",
       "DummyY            2220\n",
       "totpop            2220\n",
       "ventile           2220\n",
       "ventile_income    2220\n",
       "pop               2220\n",
       "pop_share         2220\n",
       "dtype: int64"
      ]
     },
     "execution_count": 16,
     "metadata": {},
     "output_type": "execute_result"
    }
   ],
   "source": [
    "df.count()"
   ]
  },
  {
   "cell_type": "code",
   "execution_count": 17,
   "metadata": {},
   "outputs": [
    {
     "data": {
      "text/plain": [
       "Int64Index([300, 301, 302, 303, 304, 305, 306, 307, 308, 309, 310, 311, 312,\n",
       "            313, 314, 315, 316, 317, 318, 319],\n",
       "           dtype='int64')"
      ]
     },
     "execution_count": 17,
     "metadata": {},
     "output_type": "execute_result"
    }
   ],
   "source": [
    "df[df['contcod'] == 'CHN-R'].index"
   ]
  },
  {
   "cell_type": "code",
   "execution_count": 18,
   "metadata": {},
   "outputs": [],
   "source": [
    "df = df.drop(df[df['contcod'] == 'CHN-R'].index)"
   ]
  },
  {
   "cell_type": "code",
   "execution_count": 19,
   "metadata": {},
   "outputs": [
    {
     "data": {
      "text/plain": [
       "Int64Index([320, 321, 322, 323, 324, 325, 326, 327, 328, 329, 330, 331, 332,\n",
       "            333, 334, 335, 336, 337, 338, 339],\n",
       "           dtype='int64')"
      ]
     },
     "execution_count": 19,
     "metadata": {},
     "output_type": "execute_result"
    }
   ],
   "source": [
    "df[df['contcod'] == 'CHN-U'].index"
   ]
  },
  {
   "cell_type": "code",
   "execution_count": 20,
   "metadata": {},
   "outputs": [],
   "source": [
    "df = df.drop(df[df['contcod'] == 'CHN-U'].index)"
   ]
  },
  {
   "cell_type": "code",
   "execution_count": 21,
   "metadata": {},
   "outputs": [
    {
     "data": {
      "text/plain": [
       "contcod           2180\n",
       "year_survey       2180\n",
       "DummyY            2180\n",
       "totpop            2180\n",
       "ventile           2180\n",
       "ventile_income    2180\n",
       "pop               2180\n",
       "pop_share         2180\n",
       "dtype: int64"
      ]
     },
     "execution_count": 21,
     "metadata": {},
     "output_type": "execute_result"
    }
   ],
   "source": [
    "df.count()"
   ]
  },
  {
   "cell_type": "markdown",
   "metadata": {},
   "source": [
    "Country code `KOS` and `TWN` were giving me trouble when trying to look up the `PPP` conversion, so we'll drop them too:"
   ]
  },
  {
   "cell_type": "code",
   "execution_count": 22,
   "metadata": {},
   "outputs": [],
   "source": [
    "df = df.drop(df[df['contcod'] == 'KOS'].index)"
   ]
  },
  {
   "cell_type": "code",
   "execution_count": 23,
   "metadata": {},
   "outputs": [],
   "source": [
    "df = df.drop(df[df['contcod'] == 'TWN'].index)"
   ]
  },
  {
   "cell_type": "code",
   "execution_count": 24,
   "metadata": {},
   "outputs": [
    {
     "data": {
      "text/plain": [
       "107"
      ]
     },
     "execution_count": 24,
     "metadata": {},
     "output_type": "execute_result"
    }
   ],
   "source": [
    "df['contcod'].unique().size"
   ]
  },
  {
   "cell_type": "code",
   "execution_count": 25,
   "metadata": {},
   "outputs": [
    {
     "data": {
      "text/html": [
       "<div>\n",
       "<style scoped>\n",
       "    .dataframe tbody tr th:only-of-type {\n",
       "        vertical-align: middle;\n",
       "    }\n",
       "\n",
       "    .dataframe tbody tr th {\n",
       "        vertical-align: top;\n",
       "    }\n",
       "\n",
       "    .dataframe thead th {\n",
       "        text-align: right;\n",
       "    }\n",
       "</style>\n",
       "<table border=\"1\" class=\"dataframe\">\n",
       "  <thead>\n",
       "    <tr style=\"text-align: right;\">\n",
       "      <th></th>\n",
       "      <th>contcod</th>\n",
       "      <th>year_survey</th>\n",
       "      <th>DummyY</th>\n",
       "      <th>totpop</th>\n",
       "      <th>ventile</th>\n",
       "      <th>ventile_income</th>\n",
       "      <th>pop</th>\n",
       "      <th>pop_share</th>\n",
       "    </tr>\n",
       "  </thead>\n",
       "  <tbody>\n",
       "    <tr>\n",
       "      <th>0</th>\n",
       "      <td>ALB</td>\n",
       "      <td>2012</td>\n",
       "      <td>1</td>\n",
       "      <td>2.829337</td>\n",
       "      <td>1.0</td>\n",
       "      <td>48940.0</td>\n",
       "      <td>0.141467</td>\n",
       "      <td>0.05</td>\n",
       "    </tr>\n",
       "    <tr>\n",
       "      <th>1</th>\n",
       "      <td>ALB</td>\n",
       "      <td>2012</td>\n",
       "      <td>1</td>\n",
       "      <td>2.829337</td>\n",
       "      <td>2.0</td>\n",
       "      <td>68642.0</td>\n",
       "      <td>0.141467</td>\n",
       "      <td>0.05</td>\n",
       "    </tr>\n",
       "    <tr>\n",
       "      <th>2</th>\n",
       "      <td>ALB</td>\n",
       "      <td>2012</td>\n",
       "      <td>1</td>\n",
       "      <td>2.829337</td>\n",
       "      <td>3.0</td>\n",
       "      <td>78991.0</td>\n",
       "      <td>0.141467</td>\n",
       "      <td>0.05</td>\n",
       "    </tr>\n",
       "  </tbody>\n",
       "</table>\n",
       "</div>"
      ],
      "text/plain": [
       "  contcod  year_survey  DummyY    totpop  ventile  ventile_income       pop  \\\n",
       "0     ALB         2012       1  2.829337      1.0         48940.0  0.141467   \n",
       "1     ALB         2012       1  2.829337      2.0         68642.0  0.141467   \n",
       "2     ALB         2012       1  2.829337      3.0         78991.0  0.141467   \n",
       "\n",
       "   pop_share  \n",
       "0       0.05  \n",
       "1       0.05  \n",
       "2       0.05  "
      ]
     },
     "execution_count": 25,
     "metadata": {},
     "output_type": "execute_result"
    }
   ],
   "source": [
    "df.head(3)"
   ]
  },
  {
   "cell_type": "markdown",
   "metadata": {},
   "source": [
    "Plot it all to see whether all the data is all there."
   ]
  },
  {
   "cell_type": "markdown",
   "metadata": {},
   "source": [
    "Plot the first 100 rows (5 countries)"
   ]
  },
  {
   "cell_type": "code",
   "execution_count": 26,
   "metadata": {},
   "outputs": [
    {
     "data": {
      "image/png": "[encoded data removed]",
      "text/plain": [
       "<Figure size 438.225x360 with 1 Axes>"
      ]
     },
     "metadata": {},
     "output_type": "display_data"
    }
   ],
   "source": [
    "sns.relplot(x=\"ventile\", y=\"ventile_income\", kind=\"line\", hue=\"contcod\", legend=\"full\", data=df[:100]);"
   ]
  },
  {
   "cell_type": "markdown",
   "metadata": {},
   "source": [
    "*WARNING* -- `ventile_income` is expressed in the country's currency rather than PPP, we'll need to convert"
   ]
  },
  {
   "cell_type": "markdown",
   "metadata": {},
   "source": [
    "So we go out and find the PPP conversion factor data -- another dataset!"
   ]
  },
  {
   "cell_type": "markdown",
   "metadata": {},
   "source": [
    "*NOTE:* `./data/API_PA.NUS.PPP_DS2_en_csv_v2_10578402.csv` was renamed and cleaned as `./ppp.csv`"
   ]
  },
  {
   "cell_type": "code",
   "execution_count": 27,
   "metadata": {},
   "outputs": [],
   "source": [
    "ppp = pd.read_csv('ppp.csv')"
   ]
  },
  {
   "cell_type": "code",
   "execution_count": 28,
   "metadata": {},
   "outputs": [
    {
     "data": {
      "text/html": [
       "<div>\n",
       "<style scoped>\n",
       "    .dataframe tbody tr th:only-of-type {\n",
       "        vertical-align: middle;\n",
       "    }\n",
       "\n",
       "    .dataframe tbody tr th {\n",
       "        vertical-align: top;\n",
       "    }\n",
       "\n",
       "    .dataframe thead th {\n",
       "        text-align: right;\n",
       "    }\n",
       "</style>\n",
       "<table border=\"1\" class=\"dataframe\">\n",
       "  <thead>\n",
       "    <tr style=\"text-align: right;\">\n",
       "      <th></th>\n",
       "      <th>Country Name</th>\n",
       "      <th>Country Code</th>\n",
       "      <th>Indicator Name</th>\n",
       "      <th>Indicator Code</th>\n",
       "      <th>1960</th>\n",
       "      <th>1961</th>\n",
       "      <th>1962</th>\n",
       "      <th>1963</th>\n",
       "      <th>1964</th>\n",
       "      <th>1965</th>\n",
       "      <th>...</th>\n",
       "      <th>2010</th>\n",
       "      <th>2011</th>\n",
       "      <th>2012</th>\n",
       "      <th>2013</th>\n",
       "      <th>2014</th>\n",
       "      <th>2015</th>\n",
       "      <th>2016</th>\n",
       "      <th>2017</th>\n",
       "      <th>2018</th>\n",
       "      <th>Unnamed: 63</th>\n",
       "    </tr>\n",
       "  </thead>\n",
       "  <tbody>\n",
       "    <tr>\n",
       "      <th>0</th>\n",
       "      <td>Aruba</td>\n",
       "      <td>ABW</td>\n",
       "      <td>PPP conversion factor, GDP (LCU per internatio...</td>\n",
       "      <td>PA.NUS.PPP</td>\n",
       "      <td>NaN</td>\n",
       "      <td>NaN</td>\n",
       "      <td>NaN</td>\n",
       "      <td>NaN</td>\n",
       "      <td>NaN</td>\n",
       "      <td>NaN</td>\n",
       "      <td>...</td>\n",
       "      <td>1.247673</td>\n",
       "      <td>1.260119</td>\n",
       "      <td>1.246163</td>\n",
       "      <td>1.197089</td>\n",
       "      <td>1.195737</td>\n",
       "      <td>1.207233</td>\n",
       "      <td>1.176832</td>\n",
       "      <td>1.162809</td>\n",
       "      <td>NaN</td>\n",
       "      <td>NaN</td>\n",
       "    </tr>\n",
       "    <tr>\n",
       "      <th>1</th>\n",
       "      <td>Afghanistan</td>\n",
       "      <td>AFG</td>\n",
       "      <td>PPP conversion factor, GDP (LCU per internatio...</td>\n",
       "      <td>PA.NUS.PPP</td>\n",
       "      <td>NaN</td>\n",
       "      <td>NaN</td>\n",
       "      <td>NaN</td>\n",
       "      <td>NaN</td>\n",
       "      <td>NaN</td>\n",
       "      <td>NaN</td>\n",
       "      <td>...</td>\n",
       "      <td>15.197030</td>\n",
       "      <td>17.356170</td>\n",
       "      <td>18.273028</td>\n",
       "      <td>18.823950</td>\n",
       "      <td>18.579175</td>\n",
       "      <td>18.832529</td>\n",
       "      <td>19.579392</td>\n",
       "      <td>19.588412</td>\n",
       "      <td>NaN</td>\n",
       "      <td>NaN</td>\n",
       "    </tr>\n",
       "    <tr>\n",
       "      <th>2</th>\n",
       "      <td>Angola</td>\n",
       "      <td>AGO</td>\n",
       "      <td>PPP conversion factor, GDP (LCU per internatio...</td>\n",
       "      <td>PA.NUS.PPP</td>\n",
       "      <td>NaN</td>\n",
       "      <td>NaN</td>\n",
       "      <td>NaN</td>\n",
       "      <td>NaN</td>\n",
       "      <td>NaN</td>\n",
       "      <td>NaN</td>\n",
       "      <td>...</td>\n",
       "      <td>52.926370</td>\n",
       "      <td>68.314856</td>\n",
       "      <td>71.892794</td>\n",
       "      <td>72.659247</td>\n",
       "      <td>73.849371</td>\n",
       "      <td>70.497210</td>\n",
       "      <td>84.918868</td>\n",
       "      <td>102.180626</td>\n",
       "      <td>NaN</td>\n",
       "      <td>NaN</td>\n",
       "    </tr>\n",
       "  </tbody>\n",
       "</table>\n",
       "<p>3 rows × 64 columns</p>\n",
       "</div>"
      ],
      "text/plain": [
       "  Country Name Country Code  \\\n",
       "0        Aruba          ABW   \n",
       "1  Afghanistan          AFG   \n",
       "2       Angola          AGO   \n",
       "\n",
       "                                      Indicator Name Indicator Code  1960  \\\n",
       "0  PPP conversion factor, GDP (LCU per internatio...     PA.NUS.PPP   NaN   \n",
       "1  PPP conversion factor, GDP (LCU per internatio...     PA.NUS.PPP   NaN   \n",
       "2  PPP conversion factor, GDP (LCU per internatio...     PA.NUS.PPP   NaN   \n",
       "\n",
       "   1961  1962  1963  1964  1965  ...       2010       2011       2012  \\\n",
       "0   NaN   NaN   NaN   NaN   NaN  ...   1.247673   1.260119   1.246163   \n",
       "1   NaN   NaN   NaN   NaN   NaN  ...  15.197030  17.356170  18.273028   \n",
       "2   NaN   NaN   NaN   NaN   NaN  ...  52.926370  68.314856  71.892794   \n",
       "\n",
       "        2013       2014       2015       2016        2017  2018  Unnamed: 63  \n",
       "0   1.197089   1.195737   1.207233   1.176832    1.162809   NaN          NaN  \n",
       "1  18.823950  18.579175  18.832529  19.579392   19.588412   NaN          NaN  \n",
       "2  72.659247  73.849371  70.497210  84.918868  102.180626   NaN          NaN  \n",
       "\n",
       "[3 rows x 64 columns]"
      ]
     },
     "execution_count": 28,
     "metadata": {},
     "output_type": "execute_result"
    }
   ],
   "source": [
    "ppp.head(3)"
   ]
  },
  {
   "cell_type": "code",
   "execution_count": 29,
   "metadata": {},
   "outputs": [],
   "source": [
    "ppp = ppp[['Country Code', '2011']]"
   ]
  },
  {
   "cell_type": "code",
   "execution_count": 30,
   "metadata": {},
   "outputs": [
    {
     "data": {
      "text/html": [
       "<div>\n",
       "<style scoped>\n",
       "    .dataframe tbody tr th:only-of-type {\n",
       "        vertical-align: middle;\n",
       "    }\n",
       "\n",
       "    .dataframe tbody tr th {\n",
       "        vertical-align: top;\n",
       "    }\n",
       "\n",
       "    .dataframe thead th {\n",
       "        text-align: right;\n",
       "    }\n",
       "</style>\n",
       "<table border=\"1\" class=\"dataframe\">\n",
       "  <thead>\n",
       "    <tr style=\"text-align: right;\">\n",
       "      <th></th>\n",
       "      <th>Country Code</th>\n",
       "      <th>2011</th>\n",
       "    </tr>\n",
       "  </thead>\n",
       "  <tbody>\n",
       "    <tr>\n",
       "      <th>0</th>\n",
       "      <td>ABW</td>\n",
       "      <td>1.260119</td>\n",
       "    </tr>\n",
       "    <tr>\n",
       "      <th>1</th>\n",
       "      <td>AFG</td>\n",
       "      <td>17.356170</td>\n",
       "    </tr>\n",
       "    <tr>\n",
       "      <th>2</th>\n",
       "      <td>AGO</td>\n",
       "      <td>68.314856</td>\n",
       "    </tr>\n",
       "  </tbody>\n",
       "</table>\n",
       "</div>"
      ],
      "text/plain": [
       "  Country Code       2011\n",
       "0          ABW   1.260119\n",
       "1          AFG  17.356170\n",
       "2          AGO  68.314856"
      ]
     },
     "execution_count": 30,
     "metadata": {},
     "output_type": "execute_result"
    }
   ],
   "source": [
    "ppp.head(3)"
   ]
  },
  {
   "cell_type": "markdown",
   "metadata": {},
   "source": [
    "Rename columns for ease or reference"
   ]
  },
  {
   "cell_type": "code",
   "execution_count": 31,
   "metadata": {},
   "outputs": [],
   "source": [
    "ppp.columns = ['code', '2011']"
   ]
  },
  {
   "cell_type": "code",
   "execution_count": 32,
   "metadata": {},
   "outputs": [
    {
     "data": {
      "text/html": [
       "<div>\n",
       "<style scoped>\n",
       "    .dataframe tbody tr th:only-of-type {\n",
       "        vertical-align: middle;\n",
       "    }\n",
       "\n",
       "    .dataframe tbody tr th {\n",
       "        vertical-align: top;\n",
       "    }\n",
       "\n",
       "    .dataframe thead th {\n",
       "        text-align: right;\n",
       "    }\n",
       "</style>\n",
       "<table border=\"1\" class=\"dataframe\">\n",
       "  <thead>\n",
       "    <tr style=\"text-align: right;\">\n",
       "      <th></th>\n",
       "      <th>code</th>\n",
       "      <th>2011</th>\n",
       "    </tr>\n",
       "  </thead>\n",
       "  <tbody>\n",
       "    <tr>\n",
       "      <th>0</th>\n",
       "      <td>ABW</td>\n",
       "      <td>1.260119</td>\n",
       "    </tr>\n",
       "    <tr>\n",
       "      <th>1</th>\n",
       "      <td>AFG</td>\n",
       "      <td>17.356170</td>\n",
       "    </tr>\n",
       "    <tr>\n",
       "      <th>2</th>\n",
       "      <td>AGO</td>\n",
       "      <td>68.314856</td>\n",
       "    </tr>\n",
       "  </tbody>\n",
       "</table>\n",
       "</div>"
      ],
      "text/plain": [
       "  code       2011\n",
       "0  ABW   1.260119\n",
       "1  AFG  17.356170\n",
       "2  AGO  68.314856"
      ]
     },
     "execution_count": 32,
     "metadata": {},
     "output_type": "execute_result"
    }
   ],
   "source": [
    "ppp.head(3)"
   ]
  },
  {
   "cell_type": "markdown",
   "metadata": {},
   "source": [
    "Now we are ready to work!\n",
    "\n",
    "Let's create a function that returns the conversion factor!"
   ]
  },
  {
   "cell_type": "code",
   "execution_count": 33,
   "metadata": {},
   "outputs": [],
   "source": [
    "def conversion_factor(code):\n",
    "  # find row with exact code match, select 2011 column, grab first value (the only one there is)\n",
    "  return ppp.loc[ppp['code'] == code]['2011'].iloc[0]"
   ]
  },
  {
   "cell_type": "code",
   "execution_count": 34,
   "metadata": {},
   "outputs": [
    {
     "data": {
      "text/plain": [
       "15.1094346163569"
      ]
     },
     "execution_count": 34,
     "metadata": {},
     "output_type": "execute_result"
    }
   ],
   "source": [
    "conversion_factor('IND')"
   ]
  },
  {
   "cell_type": "code",
   "execution_count": 35,
   "metadata": {},
   "outputs": [
    {
     "data": {
      "text/plain": [
       "1.26011914250927"
      ]
     },
     "execution_count": 35,
     "metadata": {},
     "output_type": "execute_result"
    }
   ],
   "source": [
    "conversion_factor('ABW')"
   ]
  },
  {
   "cell_type": "markdown",
   "metadata": {},
   "source": [
    "Let's add the conversion factor into our dataframe"
   ]
  },
  {
   "cell_type": "code",
   "execution_count": 36,
   "metadata": {},
   "outputs": [],
   "source": [
    "df['ppp_factor'] = df.apply(lambda x: conversion_factor(x['contcod']), axis=1)"
   ]
  },
  {
   "cell_type": "code",
   "execution_count": 37,
   "metadata": {},
   "outputs": [
    {
     "data": {
      "text/html": [
       "<div>\n",
       "<style scoped>\n",
       "    .dataframe tbody tr th:only-of-type {\n",
       "        vertical-align: middle;\n",
       "    }\n",
       "\n",
       "    .dataframe tbody tr th {\n",
       "        vertical-align: top;\n",
       "    }\n",
       "\n",
       "    .dataframe thead th {\n",
       "        text-align: right;\n",
       "    }\n",
       "</style>\n",
       "<table border=\"1\" class=\"dataframe\">\n",
       "  <thead>\n",
       "    <tr style=\"text-align: right;\">\n",
       "      <th></th>\n",
       "      <th>contcod</th>\n",
       "      <th>year_survey</th>\n",
       "      <th>DummyY</th>\n",
       "      <th>totpop</th>\n",
       "      <th>ventile</th>\n",
       "      <th>ventile_income</th>\n",
       "      <th>pop</th>\n",
       "      <th>pop_share</th>\n",
       "      <th>ppp_factor</th>\n",
       "    </tr>\n",
       "  </thead>\n",
       "  <tbody>\n",
       "    <tr>\n",
       "      <th>0</th>\n",
       "      <td>ALB</td>\n",
       "      <td>2012</td>\n",
       "      <td>1</td>\n",
       "      <td>2.829337</td>\n",
       "      <td>1.0</td>\n",
       "      <td>48940.0</td>\n",
       "      <td>0.141467</td>\n",
       "      <td>0.05</td>\n",
       "      <td>43.857745</td>\n",
       "    </tr>\n",
       "    <tr>\n",
       "      <th>1</th>\n",
       "      <td>ALB</td>\n",
       "      <td>2012</td>\n",
       "      <td>1</td>\n",
       "      <td>2.829337</td>\n",
       "      <td>2.0</td>\n",
       "      <td>68642.0</td>\n",
       "      <td>0.141467</td>\n",
       "      <td>0.05</td>\n",
       "      <td>43.857745</td>\n",
       "    </tr>\n",
       "    <tr>\n",
       "      <th>2</th>\n",
       "      <td>ALB</td>\n",
       "      <td>2012</td>\n",
       "      <td>1</td>\n",
       "      <td>2.829337</td>\n",
       "      <td>3.0</td>\n",
       "      <td>78991.0</td>\n",
       "      <td>0.141467</td>\n",
       "      <td>0.05</td>\n",
       "      <td>43.857745</td>\n",
       "    </tr>\n",
       "  </tbody>\n",
       "</table>\n",
       "</div>"
      ],
      "text/plain": [
       "  contcod  year_survey  DummyY    totpop  ventile  ventile_income       pop  \\\n",
       "0     ALB         2012       1  2.829337      1.0         48940.0  0.141467   \n",
       "1     ALB         2012       1  2.829337      2.0         68642.0  0.141467   \n",
       "2     ALB         2012       1  2.829337      3.0         78991.0  0.141467   \n",
       "\n",
       "   pop_share  ppp_factor  \n",
       "0       0.05   43.857745  \n",
       "1       0.05   43.857745  \n",
       "2       0.05   43.857745  "
      ]
     },
     "execution_count": 37,
     "metadata": {},
     "output_type": "execute_result"
    }
   ],
   "source": [
    "df.head(3)"
   ]
  },
  {
   "cell_type": "code",
   "execution_count": 38,
   "metadata": {},
   "outputs": [
    {
     "data": {
      "text/html": [
       "<div>\n",
       "<style scoped>\n",
       "    .dataframe tbody tr th:only-of-type {\n",
       "        vertical-align: middle;\n",
       "    }\n",
       "\n",
       "    .dataframe tbody tr th {\n",
       "        vertical-align: top;\n",
       "    }\n",
       "\n",
       "    .dataframe thead th {\n",
       "        text-align: right;\n",
       "    }\n",
       "</style>\n",
       "<table border=\"1\" class=\"dataframe\">\n",
       "  <thead>\n",
       "    <tr style=\"text-align: right;\">\n",
       "      <th></th>\n",
       "      <th>contcod</th>\n",
       "      <th>year_survey</th>\n",
       "      <th>DummyY</th>\n",
       "      <th>totpop</th>\n",
       "      <th>ventile</th>\n",
       "      <th>ventile_income</th>\n",
       "      <th>pop</th>\n",
       "      <th>pop_share</th>\n",
       "      <th>ppp_factor</th>\n",
       "    </tr>\n",
       "  </thead>\n",
       "  <tbody>\n",
       "    <tr>\n",
       "      <th>2217</th>\n",
       "      <td>ZMB</td>\n",
       "      <td>2010</td>\n",
       "      <td>0</td>\n",
       "      <td>13.633797</td>\n",
       "      <td>18.0</td>\n",
       "      <td>3692190.0</td>\n",
       "      <td>0.68169</td>\n",
       "      <td>0.05</td>\n",
       "      <td>2.37838</td>\n",
       "    </tr>\n",
       "    <tr>\n",
       "      <th>2218</th>\n",
       "      <td>ZMB</td>\n",
       "      <td>2010</td>\n",
       "      <td>0</td>\n",
       "      <td>13.633797</td>\n",
       "      <td>19.0</td>\n",
       "      <td>5342854.0</td>\n",
       "      <td>0.68169</td>\n",
       "      <td>0.05</td>\n",
       "      <td>2.37838</td>\n",
       "    </tr>\n",
       "    <tr>\n",
       "      <th>2219</th>\n",
       "      <td>ZMB</td>\n",
       "      <td>2010</td>\n",
       "      <td>0</td>\n",
       "      <td>13.633797</td>\n",
       "      <td>20.0</td>\n",
       "      <td>15476621.0</td>\n",
       "      <td>0.68169</td>\n",
       "      <td>0.05</td>\n",
       "      <td>2.37838</td>\n",
       "    </tr>\n",
       "  </tbody>\n",
       "</table>\n",
       "</div>"
      ],
      "text/plain": [
       "     contcod  year_survey  DummyY     totpop  ventile  ventile_income  \\\n",
       "2217     ZMB         2010       0  13.633797     18.0       3692190.0   \n",
       "2218     ZMB         2010       0  13.633797     19.0       5342854.0   \n",
       "2219     ZMB         2010       0  13.633797     20.0      15476621.0   \n",
       "\n",
       "          pop  pop_share  ppp_factor  \n",
       "2217  0.68169       0.05     2.37838  \n",
       "2218  0.68169       0.05     2.37838  \n",
       "2219  0.68169       0.05     2.37838  "
      ]
     },
     "execution_count": 38,
     "metadata": {},
     "output_type": "execute_result"
    }
   ],
   "source": [
    "df.tail(3)"
   ]
  },
  {
   "cell_type": "markdown",
   "metadata": {},
   "source": [
    "Now we just have to create a new column (let's call it `ppp_2005`) multiplying the `Dinc` by `ppp_factor`"
   ]
  },
  {
   "cell_type": "code",
   "execution_count": 39,
   "metadata": {},
   "outputs": [],
   "source": [
    "df['ppp_2011'] = df.apply(lambda x: x['ventile_income'] / x['ppp_factor'], axis=1)"
   ]
  },
  {
   "cell_type": "code",
   "execution_count": 40,
   "metadata": {},
   "outputs": [
    {
     "data": {
      "text/html": [
       "<div>\n",
       "<style scoped>\n",
       "    .dataframe tbody tr th:only-of-type {\n",
       "        vertical-align: middle;\n",
       "    }\n",
       "\n",
       "    .dataframe tbody tr th {\n",
       "        vertical-align: top;\n",
       "    }\n",
       "\n",
       "    .dataframe thead th {\n",
       "        text-align: right;\n",
       "    }\n",
       "</style>\n",
       "<table border=\"1\" class=\"dataframe\">\n",
       "  <thead>\n",
       "    <tr style=\"text-align: right;\">\n",
       "      <th></th>\n",
       "      <th>contcod</th>\n",
       "      <th>year_survey</th>\n",
       "      <th>DummyY</th>\n",
       "      <th>totpop</th>\n",
       "      <th>ventile</th>\n",
       "      <th>ventile_income</th>\n",
       "      <th>pop</th>\n",
       "      <th>pop_share</th>\n",
       "      <th>ppp_factor</th>\n",
       "      <th>ppp_2011</th>\n",
       "    </tr>\n",
       "  </thead>\n",
       "  <tbody>\n",
       "    <tr>\n",
       "      <th>2217</th>\n",
       "      <td>ZMB</td>\n",
       "      <td>2010</td>\n",
       "      <td>0</td>\n",
       "      <td>13.633797</td>\n",
       "      <td>18.0</td>\n",
       "      <td>3692190.0</td>\n",
       "      <td>0.68169</td>\n",
       "      <td>0.05</td>\n",
       "      <td>2.37838</td>\n",
       "      <td>1.552397e+06</td>\n",
       "    </tr>\n",
       "    <tr>\n",
       "      <th>2218</th>\n",
       "      <td>ZMB</td>\n",
       "      <td>2010</td>\n",
       "      <td>0</td>\n",
       "      <td>13.633797</td>\n",
       "      <td>19.0</td>\n",
       "      <td>5342854.0</td>\n",
       "      <td>0.68169</td>\n",
       "      <td>0.05</td>\n",
       "      <td>2.37838</td>\n",
       "      <td>2.246425e+06</td>\n",
       "    </tr>\n",
       "    <tr>\n",
       "      <th>2219</th>\n",
       "      <td>ZMB</td>\n",
       "      <td>2010</td>\n",
       "      <td>0</td>\n",
       "      <td>13.633797</td>\n",
       "      <td>20.0</td>\n",
       "      <td>15476621.0</td>\n",
       "      <td>0.68169</td>\n",
       "      <td>0.05</td>\n",
       "      <td>2.37838</td>\n",
       "      <td>6.507210e+06</td>\n",
       "    </tr>\n",
       "  </tbody>\n",
       "</table>\n",
       "</div>"
      ],
      "text/plain": [
       "     contcod  year_survey  DummyY     totpop  ventile  ventile_income  \\\n",
       "2217     ZMB         2010       0  13.633797     18.0       3692190.0   \n",
       "2218     ZMB         2010       0  13.633797     19.0       5342854.0   \n",
       "2219     ZMB         2010       0  13.633797     20.0      15476621.0   \n",
       "\n",
       "          pop  pop_share  ppp_factor      ppp_2011  \n",
       "2217  0.68169       0.05     2.37838  1.552397e+06  \n",
       "2218  0.68169       0.05     2.37838  2.246425e+06  \n",
       "2219  0.68169       0.05     2.37838  6.507210e+06  "
      ]
     },
     "execution_count": 40,
     "metadata": {},
     "output_type": "execute_result"
    }
   ],
   "source": [
    "df.tail(3)"
   ]
  },
  {
   "cell_type": "markdown",
   "metadata": {},
   "source": [
    "Now let's convert `ppp_2005` to `ppp_percentile`"
   ]
  },
  {
   "cell_type": "code",
   "execution_count": 41,
   "metadata": {},
   "outputs": [],
   "source": [
    "df['ppp_percentile'] = df.apply(lambda x: get_percentile(x['ppp_2011']), axis=1)"
   ]
  },
  {
   "cell_type": "markdown",
   "metadata": {},
   "source": [
    "Let's graph again to see what we have:"
   ]
  },
  {
   "cell_type": "code",
   "execution_count": 42,
   "metadata": {},
   "outputs": [
    {
     "data": {
      "image/png": "[encoded data removed]",
      "text/plain": [
       "<Figure size 438.225x360 with 1 Axes>"
      ]
     },
     "metadata": {},
     "output_type": "display_data"
    }
   ],
   "source": [
    "sns.relplot(\n",
    "  x=\"ventile\", y=\"ppp_percentile\", \n",
    "  kind=\"line\", hue=\"contcod\", legend=\"full\", \n",
    "  data=df.loc[df['contcod'].isin(['IND', 'BRA', 'DEU'])]\n",
    ");"
   ]
  },
  {
   "cell_type": "code",
   "execution_count": 43,
   "metadata": {},
   "outputs": [
    {
     "data": {
      "text/html": [
       "<div>\n",
       "<style scoped>\n",
       "    .dataframe tbody tr th:only-of-type {\n",
       "        vertical-align: middle;\n",
       "    }\n",
       "\n",
       "    .dataframe tbody tr th {\n",
       "        vertical-align: top;\n",
       "    }\n",
       "\n",
       "    .dataframe thead th {\n",
       "        text-align: right;\n",
       "    }\n",
       "</style>\n",
       "<table border=\"1\" class=\"dataframe\">\n",
       "  <thead>\n",
       "    <tr style=\"text-align: right;\">\n",
       "      <th></th>\n",
       "      <th>contcod</th>\n",
       "      <th>year_survey</th>\n",
       "      <th>DummyY</th>\n",
       "      <th>totpop</th>\n",
       "      <th>ventile</th>\n",
       "      <th>ventile_income</th>\n",
       "      <th>pop</th>\n",
       "      <th>pop_share</th>\n",
       "      <th>ppp_factor</th>\n",
       "      <th>ppp_2011</th>\n",
       "      <th>ppp_percentile</th>\n",
       "    </tr>\n",
       "  </thead>\n",
       "  <tbody>\n",
       "    <tr>\n",
       "      <th>0</th>\n",
       "      <td>ALB</td>\n",
       "      <td>2012</td>\n",
       "      <td>1</td>\n",
       "      <td>2.829337</td>\n",
       "      <td>1.0</td>\n",
       "      <td>48940.0</td>\n",
       "      <td>0.141467</td>\n",
       "      <td>0.05</td>\n",
       "      <td>43.857745</td>\n",
       "      <td>1115.880438</td>\n",
       "      <td>32.603788</td>\n",
       "    </tr>\n",
       "    <tr>\n",
       "      <th>1</th>\n",
       "      <td>ALB</td>\n",
       "      <td>2012</td>\n",
       "      <td>1</td>\n",
       "      <td>2.829337</td>\n",
       "      <td>2.0</td>\n",
       "      <td>68642.0</td>\n",
       "      <td>0.141467</td>\n",
       "      <td>0.05</td>\n",
       "      <td>43.857745</td>\n",
       "      <td>1565.105538</td>\n",
       "      <td>42.932962</td>\n",
       "    </tr>\n",
       "    <tr>\n",
       "      <th>2</th>\n",
       "      <td>ALB</td>\n",
       "      <td>2012</td>\n",
       "      <td>1</td>\n",
       "      <td>2.829337</td>\n",
       "      <td>3.0</td>\n",
       "      <td>78991.0</td>\n",
       "      <td>0.141467</td>\n",
       "      <td>0.05</td>\n",
       "      <td>43.857745</td>\n",
       "      <td>1801.072981</td>\n",
       "      <td>47.121037</td>\n",
       "    </tr>\n",
       "  </tbody>\n",
       "</table>\n",
       "</div>"
      ],
      "text/plain": [
       "  contcod  year_survey  DummyY    totpop  ventile  ventile_income       pop  \\\n",
       "0     ALB         2012       1  2.829337      1.0         48940.0  0.141467   \n",
       "1     ALB         2012       1  2.829337      2.0         68642.0  0.141467   \n",
       "2     ALB         2012       1  2.829337      3.0         78991.0  0.141467   \n",
       "\n",
       "   pop_share  ppp_factor     ppp_2011  ppp_percentile  \n",
       "0       0.05   43.857745  1115.880438       32.603788  \n",
       "1       0.05   43.857745  1565.105538       42.932962  \n",
       "2       0.05   43.857745  1801.072981       47.121037  "
      ]
     },
     "execution_count": 43,
     "metadata": {},
     "output_type": "execute_result"
    }
   ],
   "source": [
    "df.head(3)"
   ]
  },
  {
   "cell_type": "code",
   "execution_count": 44,
   "metadata": {},
   "outputs": [],
   "source": [
    "def get_x_coordinate(ventile):\n",
    "    return (ventile * 5 - 2.5)"
   ]
  },
  {
   "cell_type": "code",
   "execution_count": 45,
   "metadata": {},
   "outputs": [],
   "source": [
    "df['x'] = df.apply(lambda x: get_x_coordinate(x['ventile']), axis=1)"
   ]
  },
  {
   "cell_type": "code",
   "execution_count": 46,
   "metadata": {},
   "outputs": [
    {
     "data": {
      "text/html": [
       "<div>\n",
       "<style scoped>\n",
       "    .dataframe tbody tr th:only-of-type {\n",
       "        vertical-align: middle;\n",
       "    }\n",
       "\n",
       "    .dataframe tbody tr th {\n",
       "        vertical-align: top;\n",
       "    }\n",
       "\n",
       "    .dataframe thead th {\n",
       "        text-align: right;\n",
       "    }\n",
       "</style>\n",
       "<table border=\"1\" class=\"dataframe\">\n",
       "  <thead>\n",
       "    <tr style=\"text-align: right;\">\n",
       "      <th></th>\n",
       "      <th>contcod</th>\n",
       "      <th>year_survey</th>\n",
       "      <th>DummyY</th>\n",
       "      <th>totpop</th>\n",
       "      <th>ventile</th>\n",
       "      <th>ventile_income</th>\n",
       "      <th>pop</th>\n",
       "      <th>pop_share</th>\n",
       "      <th>ppp_factor</th>\n",
       "      <th>ppp_2011</th>\n",
       "      <th>ppp_percentile</th>\n",
       "      <th>x</th>\n",
       "    </tr>\n",
       "  </thead>\n",
       "  <tbody>\n",
       "    <tr>\n",
       "      <th>0</th>\n",
       "      <td>ALB</td>\n",
       "      <td>2012</td>\n",
       "      <td>1</td>\n",
       "      <td>2.829337</td>\n",
       "      <td>1.0</td>\n",
       "      <td>48940.0</td>\n",
       "      <td>0.141467</td>\n",
       "      <td>0.05</td>\n",
       "      <td>43.857745</td>\n",
       "      <td>1115.880438</td>\n",
       "      <td>32.603788</td>\n",
       "      <td>2.5</td>\n",
       "    </tr>\n",
       "    <tr>\n",
       "      <th>1</th>\n",
       "      <td>ALB</td>\n",
       "      <td>2012</td>\n",
       "      <td>1</td>\n",
       "      <td>2.829337</td>\n",
       "      <td>2.0</td>\n",
       "      <td>68642.0</td>\n",
       "      <td>0.141467</td>\n",
       "      <td>0.05</td>\n",
       "      <td>43.857745</td>\n",
       "      <td>1565.105538</td>\n",
       "      <td>42.932962</td>\n",
       "      <td>7.5</td>\n",
       "    </tr>\n",
       "    <tr>\n",
       "      <th>2</th>\n",
       "      <td>ALB</td>\n",
       "      <td>2012</td>\n",
       "      <td>1</td>\n",
       "      <td>2.829337</td>\n",
       "      <td>3.0</td>\n",
       "      <td>78991.0</td>\n",
       "      <td>0.141467</td>\n",
       "      <td>0.05</td>\n",
       "      <td>43.857745</td>\n",
       "      <td>1801.072981</td>\n",
       "      <td>47.121037</td>\n",
       "      <td>12.5</td>\n",
       "    </tr>\n",
       "    <tr>\n",
       "      <th>3</th>\n",
       "      <td>ALB</td>\n",
       "      <td>2012</td>\n",
       "      <td>1</td>\n",
       "      <td>2.829337</td>\n",
       "      <td>4.0</td>\n",
       "      <td>87698.0</td>\n",
       "      <td>0.141467</td>\n",
       "      <td>0.05</td>\n",
       "      <td>43.857745</td>\n",
       "      <td>1999.601199</td>\n",
       "      <td>50.162916</td>\n",
       "      <td>17.5</td>\n",
       "    </tr>\n",
       "    <tr>\n",
       "      <th>4</th>\n",
       "      <td>ALB</td>\n",
       "      <td>2012</td>\n",
       "      <td>1</td>\n",
       "      <td>2.829337</td>\n",
       "      <td>5.0</td>\n",
       "      <td>95185.0</td>\n",
       "      <td>0.141467</td>\n",
       "      <td>0.05</td>\n",
       "      <td>43.857745</td>\n",
       "      <td>2170.312209</td>\n",
       "      <td>52.479402</td>\n",
       "      <td>22.5</td>\n",
       "    </tr>\n",
       "  </tbody>\n",
       "</table>\n",
       "</div>"
      ],
      "text/plain": [
       "  contcod  year_survey  DummyY    totpop  ventile  ventile_income       pop  \\\n",
       "0     ALB         2012       1  2.829337      1.0         48940.0  0.141467   \n",
       "1     ALB         2012       1  2.829337      2.0         68642.0  0.141467   \n",
       "2     ALB         2012       1  2.829337      3.0         78991.0  0.141467   \n",
       "3     ALB         2012       1  2.829337      4.0         87698.0  0.141467   \n",
       "4     ALB         2012       1  2.829337      5.0         95185.0  0.141467   \n",
       "\n",
       "   pop_share  ppp_factor     ppp_2011  ppp_percentile     x  \n",
       "0       0.05   43.857745  1115.880438       32.603788   2.5  \n",
       "1       0.05   43.857745  1565.105538       42.932962   7.5  \n",
       "2       0.05   43.857745  1801.072981       47.121037  12.5  \n",
       "3       0.05   43.857745  1999.601199       50.162916  17.5  \n",
       "4       0.05   43.857745  2170.312209       52.479402  22.5  "
      ]
     },
     "execution_count": 46,
     "metadata": {},
     "output_type": "execute_result"
    }
   ],
   "source": [
    "df.head(5)"
   ]
  },
  {
   "cell_type": "markdown",
   "metadata": {},
   "source": [
    "# Make it PRETTY!"
   ]
  },
  {
   "cell_type": "code",
   "execution_count": 47,
   "metadata": {},
   "outputs": [],
   "source": [
    "several = df.loc[df['contcod'].isin(['DEU', 'BRA', 'IND'])]"
   ]
  },
  {
   "cell_type": "code",
   "execution_count": 48,
   "metadata": {},
   "outputs": [
    {
     "data": {
      "text/plain": [
       "99.5354804871905"
      ]
     },
     "execution_count": 48,
     "metadata": {},
     "output_type": "execute_result"
    }
   ],
   "source": [
    "several['ppp_percentile'].max()"
   ]
  },
  {
   "cell_type": "code",
   "execution_count": 49,
   "metadata": {},
   "outputs": [
    {
     "data": {
      "text/html": [
       "<div>\n",
       "<style scoped>\n",
       "    .dataframe tbody tr th:only-of-type {\n",
       "        vertical-align: middle;\n",
       "    }\n",
       "\n",
       "    .dataframe tbody tr th {\n",
       "        vertical-align: top;\n",
       "    }\n",
       "\n",
       "    .dataframe thead th {\n",
       "        text-align: right;\n",
       "    }\n",
       "</style>\n",
       "<table border=\"1\" class=\"dataframe\">\n",
       "  <thead>\n",
       "    <tr style=\"text-align: right;\">\n",
       "      <th></th>\n",
       "      <th>contcod</th>\n",
       "      <th>year_survey</th>\n",
       "      <th>DummyY</th>\n",
       "      <th>totpop</th>\n",
       "      <th>ventile</th>\n",
       "      <th>ventile_income</th>\n",
       "      <th>pop</th>\n",
       "      <th>pop_share</th>\n",
       "      <th>ppp_factor</th>\n",
       "      <th>ppp_2011</th>\n",
       "      <th>ppp_percentile</th>\n",
       "      <th>x</th>\n",
       "    </tr>\n",
       "  </thead>\n",
       "  <tbody>\n",
       "    <tr>\n",
       "      <th>200</th>\n",
       "      <td>BRA</td>\n",
       "      <td>2012</td>\n",
       "      <td>1</td>\n",
       "      <td>196.935135</td>\n",
       "      <td>1.0</td>\n",
       "      <td>790.0</td>\n",
       "      <td>9.846757</td>\n",
       "      <td>0.05</td>\n",
       "      <td>1.471075</td>\n",
       "      <td>537.022299</td>\n",
       "      <td>13.458496</td>\n",
       "      <td>2.5</td>\n",
       "    </tr>\n",
       "    <tr>\n",
       "      <th>201</th>\n",
       "      <td>BRA</td>\n",
       "      <td>2012</td>\n",
       "      <td>1</td>\n",
       "      <td>196.935135</td>\n",
       "      <td>2.0</td>\n",
       "      <td>1657.0</td>\n",
       "      <td>9.846757</td>\n",
       "      <td>0.05</td>\n",
       "      <td>1.471075</td>\n",
       "      <td>1126.387278</td>\n",
       "      <td>32.603788</td>\n",
       "      <td>7.5</td>\n",
       "    </tr>\n",
       "    <tr>\n",
       "      <th>202</th>\n",
       "      <td>BRA</td>\n",
       "      <td>2012</td>\n",
       "      <td>1</td>\n",
       "      <td>196.935135</td>\n",
       "      <td>3.0</td>\n",
       "      <td>2235.0</td>\n",
       "      <td>9.846757</td>\n",
       "      <td>0.05</td>\n",
       "      <td>1.471075</td>\n",
       "      <td>1519.297263</td>\n",
       "      <td>42.102563</td>\n",
       "      <td>12.5</td>\n",
       "    </tr>\n",
       "  </tbody>\n",
       "</table>\n",
       "</div>"
      ],
      "text/plain": [
       "    contcod  year_survey  DummyY      totpop  ventile  ventile_income  \\\n",
       "200     BRA         2012       1  196.935135      1.0           790.0   \n",
       "201     BRA         2012       1  196.935135      2.0          1657.0   \n",
       "202     BRA         2012       1  196.935135      3.0          2235.0   \n",
       "\n",
       "          pop  pop_share  ppp_factor     ppp_2011  ppp_percentile     x  \n",
       "200  9.846757       0.05    1.471075   537.022299       13.458496   2.5  \n",
       "201  9.846757       0.05    1.471075  1126.387278       32.603788   7.5  \n",
       "202  9.846757       0.05    1.471075  1519.297263       42.102563  12.5  "
      ]
     },
     "execution_count": 49,
     "metadata": {},
     "output_type": "execute_result"
    }
   ],
   "source": [
    "several.head(3)"
   ]
  },
  {
   "cell_type": "code",
   "execution_count": 50,
   "metadata": {},
   "outputs": [
    {
     "data": {
      "text/html": [
       "<div>\n",
       "<style scoped>\n",
       "    .dataframe tbody tr th:only-of-type {\n",
       "        vertical-align: middle;\n",
       "    }\n",
       "\n",
       "    .dataframe tbody tr th {\n",
       "        vertical-align: top;\n",
       "    }\n",
       "\n",
       "    .dataframe thead th {\n",
       "        text-align: right;\n",
       "    }\n",
       "</style>\n",
       "<table border=\"1\" class=\"dataframe\">\n",
       "  <thead>\n",
       "    <tr style=\"text-align: right;\">\n",
       "      <th></th>\n",
       "      <th>contcod</th>\n",
       "      <th>year_survey</th>\n",
       "      <th>DummyY</th>\n",
       "      <th>totpop</th>\n",
       "      <th>ventile</th>\n",
       "      <th>ventile_income</th>\n",
       "      <th>pop</th>\n",
       "      <th>pop_share</th>\n",
       "      <th>ppp_factor</th>\n",
       "      <th>ppp_2011</th>\n",
       "      <th>ppp_percentile</th>\n",
       "      <th>x</th>\n",
       "    </tr>\n",
       "  </thead>\n",
       "  <tbody>\n",
       "    <tr>\n",
       "      <th>837</th>\n",
       "      <td>IND</td>\n",
       "      <td>2011</td>\n",
       "      <td>0</td>\n",
       "      <td>1221.156372</td>\n",
       "      <td>18.0</td>\n",
       "      <td>26727.0</td>\n",
       "      <td>61.057819</td>\n",
       "      <td>0.05</td>\n",
       "      <td>15.109435</td>\n",
       "      <td>1768.894779</td>\n",
       "      <td>46.512653</td>\n",
       "      <td>87.5</td>\n",
       "    </tr>\n",
       "    <tr>\n",
       "      <th>838</th>\n",
       "      <td>IND</td>\n",
       "      <td>2011</td>\n",
       "      <td>0</td>\n",
       "      <td>1221.156372</td>\n",
       "      <td>19.0</td>\n",
       "      <td>33582.0</td>\n",
       "      <td>61.057819</td>\n",
       "      <td>0.05</td>\n",
       "      <td>15.109435</td>\n",
       "      <td>2222.584819</td>\n",
       "      <td>53.027131</td>\n",
       "      <td>92.5</td>\n",
       "    </tr>\n",
       "    <tr>\n",
       "      <th>839</th>\n",
       "      <td>IND</td>\n",
       "      <td>2011</td>\n",
       "      <td>0</td>\n",
       "      <td>1221.156372</td>\n",
       "      <td>20.0</td>\n",
       "      <td>70873.0</td>\n",
       "      <td>61.057819</td>\n",
       "      <td>0.05</td>\n",
       "      <td>15.109435</td>\n",
       "      <td>4690.645401</td>\n",
       "      <td>70.441166</td>\n",
       "      <td>97.5</td>\n",
       "    </tr>\n",
       "  </tbody>\n",
       "</table>\n",
       "</div>"
      ],
      "text/plain": [
       "    contcod  year_survey  DummyY       totpop  ventile  ventile_income  \\\n",
       "837     IND         2011       0  1221.156372     18.0         26727.0   \n",
       "838     IND         2011       0  1221.156372     19.0         33582.0   \n",
       "839     IND         2011       0  1221.156372     20.0         70873.0   \n",
       "\n",
       "           pop  pop_share  ppp_factor     ppp_2011  ppp_percentile     x  \n",
       "837  61.057819       0.05   15.109435  1768.894779       46.512653  87.5  \n",
       "838  61.057819       0.05   15.109435  2222.584819       53.027131  92.5  \n",
       "839  61.057819       0.05   15.109435  4690.645401       70.441166  97.5  "
      ]
     },
     "execution_count": 50,
     "metadata": {},
     "output_type": "execute_result"
    }
   ],
   "source": [
    "several.tail(3)"
   ]
  },
  {
   "cell_type": "markdown",
   "metadata": {},
   "source": [
    "US Poverty guidelines:\n",
    "\n",
    "https://aspe.hhs.gov/prior-hhs-poverty-guidelines-and-federal-register-references\n",
    "\n",
    "\n",
    "\n",
    "2005:  `$9,570`\n",
    "\n",
    "2011:  `$10,890`\n",
    "\n",
    "2013:  `$11,490`\n"
   ]
  },
  {
   "cell_type": "code",
   "execution_count": 51,
   "metadata": {},
   "outputs": [
    {
     "data": {
      "text/plain": [
       "85.76530437315608"
      ]
     },
     "execution_count": 51,
     "metadata": {},
     "output_type": "execute_result"
    }
   ],
   "source": [
    "get_percentile(10890)"
   ]
  },
  {
   "cell_type": "code",
   "execution_count": 52,
   "metadata": {},
   "outputs": [],
   "source": [
    "# Colorblind-friendly colors\n",
    "colors = [[0,0,0], [230/255,159/255,0], [86/255,180/255,233/255]]\n",
    "#           , [0,158/255,115/255]]\n",
    "#           [213/255,94/255,0], [0,114/255,178/255]]"
   ]
  },
  {
   "cell_type": "markdown",
   "metadata": {},
   "source": [
    "# CUSTOM TICKS"
   ]
  },
  {
   "cell_type": "markdown",
   "metadata": {},
   "source": [
    "Custom ticks are important as percentiles obscure the income, and plotting equally spaced income values is cognitively taxing when interpreting the graph.\n",
    "\n",
    "By computing evenly spaced incomes in `global_income_distribution.ipynb` using `get_ppp_from_percentile` we get this:\n",
    "\n",
    "```\n",
    "[0, 310, 470, 610, 730, 890, 1050, 1230, 1430, 1690, 2010, 2410, 2950, 3650, 4630, 5950, 7790, 10410, 14450, 2195]\n",
    "```\n",
    "\n",
    "Which is not satisfactory -- try skimming the graph without having to read each value.\n",
    "\n",
    "So we choose a sparse set of 'round' numbers:"
   ]
  },
  {
   "cell_type": "markdown",
   "metadata": {},
   "source": [
    "```\n",
    "$365 = $1/day, \n",
    "\n",
    "$690 = $1.90/day\n",
    "```"
   ]
  },
  {
   "cell_type": "code",
   "execution_count": 201,
   "metadata": {},
   "outputs": [],
   "source": [
    "values_to_plot = [365, 693.5, 1000, 1500, 2000, 3000, 5000, 10000, 15000, 20000, 30000]"
   ]
  },
  {
   "cell_type": "markdown",
   "metadata": {},
   "source": [
    "Pretty versions for tick labels:"
   ]
  },
  {
   "cell_type": "code",
   "execution_count": 202,
   "metadata": {},
   "outputs": [],
   "source": [
    "values_to_plot_pretty = ['$' + '{:,}'.format(x) for x in values_to_plot]"
   ]
  },
  {
   "cell_type": "markdown",
   "metadata": {},
   "source": [
    "Manually update some entries"
   ]
  },
  {
   "cell_type": "code",
   "execution_count": 203,
   "metadata": {},
   "outputs": [],
   "source": [
    "values_to_plot_pretty[0] = '$1/day'"
   ]
  },
  {
   "cell_type": "code",
   "execution_count": 204,
   "metadata": {},
   "outputs": [],
   "source": [
    "values_to_plot_pretty[1] = '$1.9/day'"
   ]
  },
  {
   "cell_type": "code",
   "execution_count": 205,
   "metadata": {},
   "outputs": [
    {
     "data": {
      "text/plain": [
       "['$1/day',\n",
       " '$1.9/day',\n",
       " '$1,000',\n",
       " '$1,500',\n",
       " '$2,000',\n",
       " '$3,000',\n",
       " '$5,000',\n",
       " '$10,000',\n",
       " '$15,000',\n",
       " '$20,000',\n",
       " '$30,000']"
      ]
     },
     "execution_count": 205,
     "metadata": {},
     "output_type": "execute_result"
    }
   ],
   "source": [
    "values_to_plot_pretty"
   ]
  },
  {
   "cell_type": "code",
   "execution_count": 206,
   "metadata": {},
   "outputs": [],
   "source": [
    "associated_percentiles = []\n",
    "for value in values_to_plot:\n",
    "  associated_percentiles.append(get_percentile(value))"
   ]
  },
  {
   "cell_type": "code",
   "execution_count": 207,
   "metadata": {},
   "outputs": [
    {
     "data": {
      "text/plain": [
       "[6.9907312828598895,\n",
       " 19.3171677020114,\n",
       " 29.1832129048416,\n",
       " 41.6892502775125,\n",
       " 50.162915510172006,\n",
       " 60.664687762846896,\n",
       " 71.699741915554,\n",
       " 84.3856327945172,\n",
       " 90.6337912439263,\n",
       " 94.14895073810129,\n",
       " 97.4310088548694]"
      ]
     },
     "execution_count": 207,
     "metadata": {},
     "output_type": "execute_result"
    }
   ],
   "source": [
    "associated_percentiles"
   ]
  },
  {
   "cell_type": "markdown",
   "metadata": {},
   "source": [
    "These percentiles are what we'll use to place tick locations!"
   ]
  },
  {
   "cell_type": "markdown",
   "metadata": {},
   "source": [
    "And we'll need a dictionary to convert between them."
   ]
  },
  {
   "cell_type": "code",
   "execution_count": 208,
   "metadata": {},
   "outputs": [],
   "source": [
    "pretty_ticks_dict = dict(zip(associated_percentiles, values_to_plot_pretty)) "
   ]
  },
  {
   "cell_type": "code",
   "execution_count": 209,
   "metadata": {},
   "outputs": [
    {
     "data": {
      "text/plain": [
       "{6.9907312828598895: '$1/day',\n",
       " 19.3171677020114: '$1.9/day',\n",
       " 29.1832129048416: '$1,000',\n",
       " 41.6892502775125: '$1,500',\n",
       " 50.162915510172006: '$2,000',\n",
       " 60.664687762846896: '$3,000',\n",
       " 71.699741915554: '$5,000',\n",
       " 84.3856327945172: '$10,000',\n",
       " 90.6337912439263: '$15,000',\n",
       " 94.14895073810129: '$20,000',\n",
       " 97.4310088548694: '$30,000'}"
      ]
     },
     "execution_count": 209,
     "metadata": {},
     "output_type": "execute_result"
    }
   ],
   "source": [
    "pretty_ticks_dict"
   ]
  },
  {
   "cell_type": "markdown",
   "metadata": {},
   "source": [
    "# FINAL GRAPH"
   ]
  },
  {
   "cell_type": "code",
   "execution_count": 232,
   "metadata": {},
   "outputs": [
    {
     "data": {
      "text/plain": [
       "Text(101, -0.9, '0%')"
      ]
     },
     "execution_count": 232,
     "metadata": {},
     "output_type": "execute_result"
    },
    {
     "data": {
      "image/png": "[encoded data removed]",
      "text/plain": [
       "<Figure size 1024x576 with 1 Axes>"
      ]
     },
     "metadata": {},
     "output_type": "display_data"
    }
   ],
   "source": [
    "chart = sns.relplot(\n",
    "  x=\"x\", \n",
    "  y=\"ppp_percentile\",\n",
    "  kind=\"line\", \n",
    "  hue=\"contcod\",\n",
    "  data=several,\n",
    "  palette=colors,\n",
    "  legend=False,\n",
    "  height=8,\n",
    "  aspect=16/9\n",
    ")\n",
    "\n",
    "# ------------------ CLEAR LABELS -----------------------------------\n",
    "\n",
    "chart.axes[0][0].set_title(\"\", fontsize=30)\n",
    "chart.axes[0][0].set_xlabel(\"\",fontsize=16)\n",
    "chart.axes[0][0].set_ylabel(\"\",fontsize=16)\n",
    "\n",
    "# ------------------ SET TICKS --------------------------------------\n",
    "\n",
    "chart.axes[0][0].yaxis.set_major_locator(ticker.FixedLocator(associated_percentiles))\n",
    "chart.axes[0][0].yaxis.set_major_formatter(ticker.ScalarFormatter())\n",
    "\n",
    "chart.axes[0][0].xaxis.set_major_locator(ticker.MultipleLocator(5))\n",
    "chart.axes[0][0].xaxis.set_major_formatter(ticker.ScalarFormatter())\n",
    "\n",
    "ticks_x = chart.axes[0][0].get_xticks()\n",
    "xlabels = ['{:,.0f}'.format(x) + '%' for x in ticks_x]\n",
    "chart.set_xticklabels(xlabels)\n",
    "\n",
    "ticks_y = chart.axes[0][0].get_yticks()\n",
    "ylabels = [pretty_ticks_dict.get(y) for y in ticks_y]\n",
    "chart.set_yticklabels(ylabels)\n",
    "\n",
    "# ------------------ SET TITLE --------------------------------------\n",
    "\n",
    "# empty character placed above the title to give title more space above\n",
    "chart.axes[0][0].text(\n",
    "  x = 0, \n",
    "  y = 123, \n",
    "  s = \" \")\n",
    "\n",
    "chart.axes[0][0].text(\n",
    "  x = -7.3, \n",
    "  y = 119, \n",
    "  s = \"World Income Distribution 2011\",\n",
    "  fontsize = 26, weight = 'bold', alpha = .75)\n",
    "\n",
    "chart.axes[0][0].text(\n",
    "  x = -7.3, \n",
    "  y = 112,\n",
    "  s = 'Country percentile vs percentile of world income distribution',\n",
    "  fontsize = 19, alpha = .85)\n",
    "\n",
    "chart.axes[0][0].text(\n",
    "  x = -7.3, \n",
    "  y = 106,\n",
    "  s = 'Income per person per year in 2011 PPP (Purchasing Power Parity) dollars',\n",
    "  fontsize = 17, alpha = .85)\n",
    "\n",
    "# ------------------ DRAW BLACK BOX --------------------------------------\n",
    "\n",
    "chart.axes[0][0].axhline(y = 0,     color = 'black', linewidth = 1.3, alpha = .7)     # horizonal line on bottom\n",
    "chart.axes[0][0].axhline(y = 100,   color = 'black', linewidth = 1.3, alpha = .7)     # horizonal line on top\n",
    "\n",
    "chart.axes[0][0].axvline(x = 0,     color = 'black', linewidth = 1.3, alpha = .7)   # vertical line on left\n",
    "chart.axes[0][0].axvline(x = 100,   color = 'black', linewidth = 1.3, alpha = .7)   # vertical line on right\n",
    "\n",
    "# ------------------ HORIZONTALS --------------------------------------\n",
    "\n",
    "# # USD poverty threshold 2013 - horizontal\n",
    "# chart.axes[0][0].axhline(y = 83.66, linestyle='dashed', color='gray', linewidth = 2, alpha = .3) \n",
    "# chart.axes[0][0].text(\n",
    "#   x = 1, \n",
    "#   y = 85.76, \n",
    "#   s = \"$10,890 - Individual US Poverty Line 2011\",\n",
    "#   color = 'gray',\n",
    "#   fontsize = 14, \n",
    "#   alpha = .75)\n",
    "\n",
    "# chart.axes[0][0].axhline(y = 50, linestyle='dashed', color='gray', linewidth = 2, alpha = .3) \n",
    "# chart.axes[0][0].text(\n",
    "#   x = 1, \n",
    "#   y = 51.34, \n",
    "#   s = \"$2000 - World Median Income (estimate)\",\n",
    "#   color = 'gray',\n",
    "#   fontsize = 14, \n",
    "#   alpha = .75)\n",
    "\n",
    "# ------------------ LIMITS --------------------------------------\n",
    "\n",
    "chart.axes[0][0].tick_params(labelsize=14)\n",
    "\n",
    "chart.axes[0][0].set_ylim(-0.4, 100.1)\n",
    "chart.axes[0][0].set_xlim(-0.2, 100.1)\n",
    "\n",
    "# ------------------ SIGNATURE -----------------------------------\n",
    "chart.axes[0][0].text(\n",
    "    x = -8.5, \n",
    "    y = -12.5,\n",
    "    s = ' Data Source: Branko Milanovic - World Income Distribution (2011)                                                                                                                                    Licenced under CC-BY-SA by Boris Yakubchik (2019) ',\n",
    "    fontsize = 12, \n",
    "    color = '#f0f0f0', \n",
    "    backgroundcolor = 'grey')\n",
    "\n",
    "# ------------------ PAD AXIS --------------------------------------\n",
    "\n",
    "chart.axes[0][0].tick_params(axis='x', which='major', pad=15)\n",
    "chart.axes[0][0].tick_params(axis='y', which='major', pad=15)\n",
    "\n",
    "# ------------------ COUNTRY LABELS --------------------------------------\n",
    "\n",
    "chart.axes[0][0].text(x = 40, y = 93.5, s = 'Germany', color = colors[1], weight = 'bold', rotation = 5,\n",
    "               backgroundcolor = '#f0f0f0')\n",
    "chart.axes[0][0].text(x = 45, y = 71, s = 'Brazil', color = colors[0], weight = 'bold', rotation = 17,\n",
    "              backgroundcolor = '#f0f0f0')\n",
    "chart.axes[0][0].text(x = 50, y = 28.5, s = 'India', color = colors[2], weight = 'bold', rotation = 12,\n",
    "              backgroundcolor = '#f0f0f0')\n",
    "\n",
    "# ------------------ RIGHT AXIS TICK LABELS --------------------------------------\n",
    "chart.axes[0][0].text(x = 105, y = 104.5, s = 'World Percentile', horizontalalignment='right')\n",
    "chart.axes[0][0].text(x = 101, y = 100-0.9, s = '100%')\n",
    "chart.axes[0][0].text(x = 101, y = 75 -0.9, s = '75%')\n",
    "chart.axes[0][0].text(x = 101, y = 50 -0.9, s = '50%')\n",
    "chart.axes[0][0].text(x = 101, y = 25 -0.9, s = '25%')\n",
    "chart.axes[0][0].text(x = 101, y = 0  - 0.9, s = '0%')"
   ]
  },
  {
   "cell_type": "code",
   "execution_count": 152,
   "metadata": {},
   "outputs": [],
   "source": [
    "# df.to_csv('WIP_EXPORT.csv')"
   ]
  },
  {
   "cell_type": "code",
   "execution_count": null,
   "metadata": {},
   "outputs": [],
   "source": []
  }
 ],
 "metadata": {
  "kernelspec": {
   "display_name": "Python 3",
   "language": "python",
   "name": "python3"
  },
  "language_info": {
   "codemirror_mode": {
    "name": "ipython",
    "version": 3
   },
   "file_extension": ".py",
   "mimetype": "text/x-python",
   "name": "python",
   "nbconvert_exporter": "python",
   "pygments_lexer": "ipython3",
   "version": "3.7.0"
  }
 },
 "nbformat": 4,
 "nbformat_minor": 2
}
