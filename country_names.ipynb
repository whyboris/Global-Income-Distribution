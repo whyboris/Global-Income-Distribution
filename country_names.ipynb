{
 "cells": [
  {
   "cell_type": "markdown",
   "metadata": {},
   "source": [
    "# Country name dictionary"
   ]
  },
  {
   "cell_type": "markdown",
   "metadata": {},
   "source": [
    "We will be using a clickable map to select countries (in addition to giving users the ability to click on a country name from a list)\n",
    "\n",
    "Since the map we're using, `mapael` uses `ISO 3166-1 alpha-2` (two letters) to identify a country, while the dataset we have uses `ISO 3166-2 alpha-3` (three letters) to identify a country, we'll need a way to convert between the two, and to translate those into readable names.\n",
    "\n",
    "Huge thank you to `tadast` for saving us from having to figure out the mapping:\n",
    "\n",
    "https://gist.github.com/tadast/8827699"
   ]
  },
  {
   "cell_type": "markdown",
   "metadata": {},
   "source": [
    "I downloaded and renamed it: `countries_codes_and_coordinates.csv` -> `iso2_iso3.csv`"
   ]
  },
  {
   "cell_type": "code",
   "execution_count": 1,
   "metadata": {},
   "outputs": [],
   "source": [
    "import pandas as pd"
   ]
  },
  {
   "cell_type": "code",
   "execution_count": 2,
   "metadata": {},
   "outputs": [],
   "source": [
    "df = pd.read_csv('wyd_88_05_for_release.csv')"
   ]
  },
  {
   "cell_type": "code",
   "execution_count": 3,
   "metadata": {},
   "outputs": [],
   "source": [
    "wyd = df['contcod'].unique()"
   ]
  },
  {
   "cell_type": "code",
   "execution_count": 4,
   "metadata": {},
   "outputs": [
    {
     "data": {
      "text/plain": [
       "array(['AGO', 'ALB', 'ANT', 'ARE', 'ARG', 'ARM', 'AUS', 'AUT', 'AZE',\n",
       "       'BDI', 'BEL', 'BEN', 'BFA', 'BGD', 'BGD-R', 'BGD-U', 'BGR', 'BIH',\n",
       "       'BLR', 'BOL'], dtype=object)"
      ]
     },
     "execution_count": 4,
     "metadata": {},
     "output_type": "execute_result"
    }
   ],
   "source": [
    "wyd[:20]"
   ]
  },
  {
   "cell_type": "code",
   "execution_count": 5,
   "metadata": {},
   "outputs": [],
   "source": [
    "ISO = pd.read_csv('./countries/iso2_iso3.csv')"
   ]
  },
  {
   "cell_type": "code",
   "execution_count": 6,
   "metadata": {},
   "outputs": [
    {
     "data": {
      "text/html": [
       "<div>\n",
       "<style scoped>\n",
       "    .dataframe tbody tr th:only-of-type {\n",
       "        vertical-align: middle;\n",
       "    }\n",
       "\n",
       "    .dataframe tbody tr th {\n",
       "        vertical-align: top;\n",
       "    }\n",
       "\n",
       "    .dataframe thead th {\n",
       "        text-align: right;\n",
       "    }\n",
       "</style>\n",
       "<table border=\"1\" class=\"dataframe\">\n",
       "  <thead>\n",
       "    <tr style=\"text-align: right;\">\n",
       "      <th></th>\n",
       "      <th>Country</th>\n",
       "      <th>Alpha-2 code</th>\n",
       "      <th>Alpha-3 code</th>\n",
       "      <th>Numeric code</th>\n",
       "      <th>Latitude (average)</th>\n",
       "      <th>Longitude (average)</th>\n",
       "    </tr>\n",
       "  </thead>\n",
       "  <tbody>\n",
       "    <tr>\n",
       "      <th>0</th>\n",
       "      <td>Afghanistan</td>\n",
       "      <td>\"AF\"</td>\n",
       "      <td>\"AFG\"</td>\n",
       "      <td>\"4\"</td>\n",
       "      <td>\"33\"</td>\n",
       "      <td>\"65\"</td>\n",
       "    </tr>\n",
       "    <tr>\n",
       "      <th>1</th>\n",
       "      <td>Albania</td>\n",
       "      <td>\"AL\"</td>\n",
       "      <td>\"ALB\"</td>\n",
       "      <td>\"8\"</td>\n",
       "      <td>\"41\"</td>\n",
       "      <td>\"20\"</td>\n",
       "    </tr>\n",
       "    <tr>\n",
       "      <th>2</th>\n",
       "      <td>Algeria</td>\n",
       "      <td>\"DZ\"</td>\n",
       "      <td>\"DZA\"</td>\n",
       "      <td>\"12\"</td>\n",
       "      <td>\"28\"</td>\n",
       "      <td>\"3\"</td>\n",
       "    </tr>\n",
       "    <tr>\n",
       "      <th>3</th>\n",
       "      <td>American Samoa</td>\n",
       "      <td>\"AS\"</td>\n",
       "      <td>\"ASM\"</td>\n",
       "      <td>\"16\"</td>\n",
       "      <td>\"-14.3333\"</td>\n",
       "      <td>\"-170\"</td>\n",
       "    </tr>\n",
       "    <tr>\n",
       "      <th>4</th>\n",
       "      <td>Andorra</td>\n",
       "      <td>\"AD\"</td>\n",
       "      <td>\"AND\"</td>\n",
       "      <td>\"20\"</td>\n",
       "      <td>\"42.5\"</td>\n",
       "      <td>\"1.6\"</td>\n",
       "    </tr>\n",
       "  </tbody>\n",
       "</table>\n",
       "</div>"
      ],
      "text/plain": [
       "          Country Alpha-2 code Alpha-3 code Numeric code Latitude (average)  \\\n",
       "0     Afghanistan         \"AF\"        \"AFG\"          \"4\"               \"33\"   \n",
       "1         Albania         \"AL\"        \"ALB\"          \"8\"               \"41\"   \n",
       "2         Algeria         \"DZ\"        \"DZA\"         \"12\"               \"28\"   \n",
       "3  American Samoa         \"AS\"        \"ASM\"         \"16\"         \"-14.3333\"   \n",
       "4         Andorra         \"AD\"        \"AND\"         \"20\"             \"42.5\"   \n",
       "\n",
       "  Longitude (average)  \n",
       "0                \"65\"  \n",
       "1                \"20\"  \n",
       "2                 \"3\"  \n",
       "3              \"-170\"  \n",
       "4               \"1.6\"  "
      ]
     },
     "execution_count": 6,
     "metadata": {},
     "output_type": "execute_result"
    }
   ],
   "source": [
    "ISO.head()"
   ]
  },
  {
   "cell_type": "code",
   "execution_count": 7,
   "metadata": {},
   "outputs": [],
   "source": [
    "ISO.columns = ['country', 'iso2', 'iso3', 'num', 'u1', 'u2']"
   ]
  },
  {
   "cell_type": "code",
   "execution_count": 8,
   "metadata": {},
   "outputs": [
    {
     "data": {
      "text/html": [
       "<div>\n",
       "<style scoped>\n",
       "    .dataframe tbody tr th:only-of-type {\n",
       "        vertical-align: middle;\n",
       "    }\n",
       "\n",
       "    .dataframe tbody tr th {\n",
       "        vertical-align: top;\n",
       "    }\n",
       "\n",
       "    .dataframe thead th {\n",
       "        text-align: right;\n",
       "    }\n",
       "</style>\n",
       "<table border=\"1\" class=\"dataframe\">\n",
       "  <thead>\n",
       "    <tr style=\"text-align: right;\">\n",
       "      <th></th>\n",
       "      <th>country</th>\n",
       "      <th>iso2</th>\n",
       "      <th>iso3</th>\n",
       "      <th>num</th>\n",
       "      <th>u1</th>\n",
       "      <th>u2</th>\n",
       "    </tr>\n",
       "  </thead>\n",
       "  <tbody>\n",
       "    <tr>\n",
       "      <th>0</th>\n",
       "      <td>Afghanistan</td>\n",
       "      <td>\"AF\"</td>\n",
       "      <td>\"AFG\"</td>\n",
       "      <td>\"4\"</td>\n",
       "      <td>\"33\"</td>\n",
       "      <td>\"65\"</td>\n",
       "    </tr>\n",
       "    <tr>\n",
       "      <th>1</th>\n",
       "      <td>Albania</td>\n",
       "      <td>\"AL\"</td>\n",
       "      <td>\"ALB\"</td>\n",
       "      <td>\"8\"</td>\n",
       "      <td>\"41\"</td>\n",
       "      <td>\"20\"</td>\n",
       "    </tr>\n",
       "    <tr>\n",
       "      <th>2</th>\n",
       "      <td>Algeria</td>\n",
       "      <td>\"DZ\"</td>\n",
       "      <td>\"DZA\"</td>\n",
       "      <td>\"12\"</td>\n",
       "      <td>\"28\"</td>\n",
       "      <td>\"3\"</td>\n",
       "    </tr>\n",
       "    <tr>\n",
       "      <th>3</th>\n",
       "      <td>American Samoa</td>\n",
       "      <td>\"AS\"</td>\n",
       "      <td>\"ASM\"</td>\n",
       "      <td>\"16\"</td>\n",
       "      <td>\"-14.3333\"</td>\n",
       "      <td>\"-170\"</td>\n",
       "    </tr>\n",
       "    <tr>\n",
       "      <th>4</th>\n",
       "      <td>Andorra</td>\n",
       "      <td>\"AD\"</td>\n",
       "      <td>\"AND\"</td>\n",
       "      <td>\"20\"</td>\n",
       "      <td>\"42.5\"</td>\n",
       "      <td>\"1.6\"</td>\n",
       "    </tr>\n",
       "  </tbody>\n",
       "</table>\n",
       "</div>"
      ],
      "text/plain": [
       "          country   iso2    iso3    num           u1       u2\n",
       "0     Afghanistan   \"AF\"   \"AFG\"    \"4\"         \"33\"     \"65\"\n",
       "1         Albania   \"AL\"   \"ALB\"    \"8\"         \"41\"     \"20\"\n",
       "2         Algeria   \"DZ\"   \"DZA\"   \"12\"         \"28\"      \"3\"\n",
       "3  American Samoa   \"AS\"   \"ASM\"   \"16\"   \"-14.3333\"   \"-170\"\n",
       "4         Andorra   \"AD\"   \"AND\"   \"20\"       \"42.5\"    \"1.6\""
      ]
     },
     "execution_count": 8,
     "metadata": {},
     "output_type": "execute_result"
    }
   ],
   "source": [
    "ISO.head()"
   ]
  },
  {
   "cell_type": "code",
   "execution_count": 9,
   "metadata": {},
   "outputs": [],
   "source": [
    "countries = ISO[['country', 'iso2', 'iso3', 'num']]"
   ]
  },
  {
   "cell_type": "code",
   "execution_count": 10,
   "metadata": {},
   "outputs": [
    {
     "data": {
      "text/html": [
       "<div>\n",
       "<style scoped>\n",
       "    .dataframe tbody tr th:only-of-type {\n",
       "        vertical-align: middle;\n",
       "    }\n",
       "\n",
       "    .dataframe tbody tr th {\n",
       "        vertical-align: top;\n",
       "    }\n",
       "\n",
       "    .dataframe thead th {\n",
       "        text-align: right;\n",
       "    }\n",
       "</style>\n",
       "<table border=\"1\" class=\"dataframe\">\n",
       "  <thead>\n",
       "    <tr style=\"text-align: right;\">\n",
       "      <th></th>\n",
       "      <th>country</th>\n",
       "      <th>iso2</th>\n",
       "      <th>iso3</th>\n",
       "      <th>num</th>\n",
       "    </tr>\n",
       "  </thead>\n",
       "  <tbody>\n",
       "    <tr>\n",
       "      <th>0</th>\n",
       "      <td>Afghanistan</td>\n",
       "      <td>\"AF\"</td>\n",
       "      <td>\"AFG\"</td>\n",
       "      <td>\"4\"</td>\n",
       "    </tr>\n",
       "    <tr>\n",
       "      <th>1</th>\n",
       "      <td>Albania</td>\n",
       "      <td>\"AL\"</td>\n",
       "      <td>\"ALB\"</td>\n",
       "      <td>\"8\"</td>\n",
       "    </tr>\n",
       "    <tr>\n",
       "      <th>2</th>\n",
       "      <td>Algeria</td>\n",
       "      <td>\"DZ\"</td>\n",
       "      <td>\"DZA\"</td>\n",
       "      <td>\"12\"</td>\n",
       "    </tr>\n",
       "    <tr>\n",
       "      <th>3</th>\n",
       "      <td>American Samoa</td>\n",
       "      <td>\"AS\"</td>\n",
       "      <td>\"ASM\"</td>\n",
       "      <td>\"16\"</td>\n",
       "    </tr>\n",
       "    <tr>\n",
       "      <th>4</th>\n",
       "      <td>Andorra</td>\n",
       "      <td>\"AD\"</td>\n",
       "      <td>\"AND\"</td>\n",
       "      <td>\"20\"</td>\n",
       "    </tr>\n",
       "  </tbody>\n",
       "</table>\n",
       "</div>"
      ],
      "text/plain": [
       "          country   iso2    iso3    num\n",
       "0     Afghanistan   \"AF\"   \"AFG\"    \"4\"\n",
       "1         Albania   \"AL\"   \"ALB\"    \"8\"\n",
       "2         Algeria   \"DZ\"   \"DZA\"   \"12\"\n",
       "3  American Samoa   \"AS\"   \"ASM\"   \"16\"\n",
       "4         Andorra   \"AD\"   \"AND\"   \"20\""
      ]
     },
     "execution_count": 10,
     "metadata": {},
     "output_type": "execute_result"
    }
   ],
   "source": [
    "countries.head()"
   ]
  },
  {
   "cell_type": "markdown",
   "metadata": {},
   "source": [
    "I would like a simple dictionary that will take an `iso3` value and return a `country`"
   ]
  },
  {
   "cell_type": "markdown",
   "metadata": {},
   "source": [
    "When using the map on the webpage, users will click on a country and the map library will give us `iso2`\n",
    "\n",
    "So we'll have another dictionary that will take an `iso2` and return `iso3`"
   ]
  },
  {
   "cell_type": "markdown",
   "metadata": {},
   "source": [
    "Remove all the `\"` quotes as well as extra spaces!"
   ]
  },
  {
   "cell_type": "code",
   "execution_count": 11,
   "metadata": {},
   "outputs": [
    {
     "name": "stderr",
     "output_type": "stream",
     "text": [
      "/Library/Frameworks/Python.framework/Versions/3.7/lib/python3.7/site-packages/ipykernel_launcher.py:2: SettingWithCopyWarning: \n",
      "A value is trying to be set on a copy of a slice from a DataFrame.\n",
      "Try using .loc[row_indexer,col_indexer] = value instead\n",
      "\n",
      "See the caveats in the documentation: http://pandas.pydata.org/pandas-docs/stable/indexing.html#indexing-view-versus-copy\n",
      "  \n",
      "/Library/Frameworks/Python.framework/Versions/3.7/lib/python3.7/site-packages/ipykernel_launcher.py:3: SettingWithCopyWarning: \n",
      "A value is trying to be set on a copy of a slice from a DataFrame.\n",
      "Try using .loc[row_indexer,col_indexer] = value instead\n",
      "\n",
      "See the caveats in the documentation: http://pandas.pydata.org/pandas-docs/stable/indexing.html#indexing-view-versus-copy\n",
      "  This is separate from the ipykernel package so we can avoid doing imports until\n"
     ]
    }
   ],
   "source": [
    "for col in countries.columns[1:]:\n",
    "  countries[col] = countries[col].apply(lambda x: x.replace('\"', ''))\n",
    "  countries[col] = countries[col].apply(lambda x: x.replace(' ', ''))"
   ]
  },
  {
   "cell_type": "code",
   "execution_count": 12,
   "metadata": {},
   "outputs": [
    {
     "data": {
      "text/html": [
       "<div>\n",
       "<style scoped>\n",
       "    .dataframe tbody tr th:only-of-type {\n",
       "        vertical-align: middle;\n",
       "    }\n",
       "\n",
       "    .dataframe tbody tr th {\n",
       "        vertical-align: top;\n",
       "    }\n",
       "\n",
       "    .dataframe thead th {\n",
       "        text-align: right;\n",
       "    }\n",
       "</style>\n",
       "<table border=\"1\" class=\"dataframe\">\n",
       "  <thead>\n",
       "    <tr style=\"text-align: right;\">\n",
       "      <th></th>\n",
       "      <th>country</th>\n",
       "      <th>iso2</th>\n",
       "      <th>iso3</th>\n",
       "      <th>num</th>\n",
       "    </tr>\n",
       "  </thead>\n",
       "  <tbody>\n",
       "    <tr>\n",
       "      <th>0</th>\n",
       "      <td>Afghanistan</td>\n",
       "      <td>AF</td>\n",
       "      <td>AFG</td>\n",
       "      <td>4</td>\n",
       "    </tr>\n",
       "    <tr>\n",
       "      <th>1</th>\n",
       "      <td>Albania</td>\n",
       "      <td>AL</td>\n",
       "      <td>ALB</td>\n",
       "      <td>8</td>\n",
       "    </tr>\n",
       "    <tr>\n",
       "      <th>2</th>\n",
       "      <td>Algeria</td>\n",
       "      <td>DZ</td>\n",
       "      <td>DZA</td>\n",
       "      <td>12</td>\n",
       "    </tr>\n",
       "    <tr>\n",
       "      <th>3</th>\n",
       "      <td>American Samoa</td>\n",
       "      <td>AS</td>\n",
       "      <td>ASM</td>\n",
       "      <td>16</td>\n",
       "    </tr>\n",
       "    <tr>\n",
       "      <th>4</th>\n",
       "      <td>Andorra</td>\n",
       "      <td>AD</td>\n",
       "      <td>AND</td>\n",
       "      <td>20</td>\n",
       "    </tr>\n",
       "  </tbody>\n",
       "</table>\n",
       "</div>"
      ],
      "text/plain": [
       "          country iso2 iso3 num\n",
       "0     Afghanistan   AF  AFG   4\n",
       "1         Albania   AL  ALB   8\n",
       "2         Algeria   DZ  DZA  12\n",
       "3  American Samoa   AS  ASM  16\n",
       "4         Andorra   AD  AND  20"
      ]
     },
     "execution_count": 12,
     "metadata": {},
     "output_type": "execute_result"
    }
   ],
   "source": [
    "countries.head()"
   ]
  },
  {
   "cell_type": "code",
   "execution_count": 13,
   "metadata": {},
   "outputs": [],
   "source": [
    "iso2_to_iso3 = pd.Series(countries['iso3'].values, index=countries['iso2']).to_dict()"
   ]
  },
  {
   "cell_type": "code",
   "execution_count": 14,
   "metadata": {},
   "outputs": [
    {
     "data": {
      "text/plain": [
       "'AFG'"
      ]
     },
     "execution_count": 14,
     "metadata": {},
     "output_type": "execute_result"
    }
   ],
   "source": [
    "iso2_to_iso3.get('AF')"
   ]
  },
  {
   "cell_type": "code",
   "execution_count": 15,
   "metadata": {},
   "outputs": [],
   "source": [
    "iso3_to_name = pd.Series(countries['country'].values, index=countries['iso3']).to_dict()"
   ]
  },
  {
   "cell_type": "code",
   "execution_count": 16,
   "metadata": {},
   "outputs": [
    {
     "data": {
      "text/plain": [
       "'Germany'"
      ]
     },
     "execution_count": 16,
     "metadata": {},
     "output_type": "execute_result"
    }
   ],
   "source": [
    "iso3_to_name.get('DEU')"
   ]
  },
  {
   "cell_type": "code",
   "execution_count": 24,
   "metadata": {},
   "outputs": [],
   "source": [
    "iso3_to_iso2 = pd.Series(countries['iso2'].values, index=countries['iso3']).to_dict()"
   ]
  },
  {
   "cell_type": "code",
   "execution_count": 25,
   "metadata": {},
   "outputs": [
    {
     "data": {
      "text/plain": [
       "'DE'"
      ]
     },
     "execution_count": 25,
     "metadata": {},
     "output_type": "execute_result"
    }
   ],
   "source": [
    "iso3_to_iso2.get('DEU')"
   ]
  },
  {
   "cell_type": "markdown",
   "metadata": {},
   "source": [
    "Let's list all the countries not found in our dictionary:"
   ]
  },
  {
   "cell_type": "code",
   "execution_count": 17,
   "metadata": {},
   "outputs": [
    {
     "name": "stdout",
     "output_type": "stream",
     "text": [
      "! NOT FOUND ! --  BGD-R\n",
      "! NOT FOUND ! --  BGD-U\n",
      "! NOT FOUND ! --  CHN-R\n",
      "! NOT FOUND ! --  CHN-U\n",
      "! NOT FOUND ! --  DDR\n",
      "! NOT FOUND ! --  ECU-U\n",
      "! NOT FOUND ! --  EGY-R\n",
      "! NOT FOUND ! --  EGY-U\n",
      "! NOT FOUND ! --  IDN-R\n",
      "! NOT FOUND ! --  IDN-U\n",
      "! NOT FOUND ! --  IND-R\n",
      "! NOT FOUND ! --  IND-U\n",
      "! NOT FOUND ! --  MNG-R\n",
      "! NOT FOUND ! --  MNG-U\n",
      "! NOT FOUND ! --  NER-R\n",
      "! NOT FOUND ! --  NER-U\n",
      "! NOT FOUND ! --  PER-U\n",
      "! NOT FOUND ! --  ROM\n",
      "! NOT FOUND ! --  SLV-U\n",
      "! NOT FOUND ! --  TMP\n",
      "! NOT FOUND ! --  YUG\n",
      "! NOT FOUND ! --  ZAR\n"
     ]
    }
   ],
   "source": [
    "for country in wyd:\n",
    "  if not iso3_to_name.get(country):\n",
    "    print('! NOT FOUND ! -- ', country)"
   ]
  },
  {
   "cell_type": "markdown",
   "metadata": {},
   "source": [
    "Most of these are regular countries for which the data had been split into two `U` (urban) and `R` (rural)\n",
    "\n",
    "The other few exceptions:\n",
    "`DDR`, `ROM`, `TMP`, `YUG`, and `ZAR`"
   ]
  },
  {
   "cell_type": "markdown",
   "metadata": {},
   "source": [
    "According to this: https://en.wikipedia.org/wiki/ISO_3166-1_alpha-3\n",
    "\n",
    "*Deleted*:    \n",
    "- `DDR` - German Democratic Republic\n",
    "       \n",
    "*Transitional reservations*\n",
    "- `TMP` - East Timor - From May 2002\n",
    "- `ROM` - Romania – From February 2002; Code changed to `ROU`\n",
    "- `YUG` - Yugoslavia – From July 2003\n",
    "- `ZAR` - Zaire – From July 1997"
   ]
  },
  {
   "cell_type": "code",
   "execution_count": 18,
   "metadata": {},
   "outputs": [
    {
     "data": {
      "text/plain": [
       "'Romania'"
      ]
     },
     "execution_count": 18,
     "metadata": {},
     "output_type": "execute_result"
    }
   ],
   "source": [
    "iso3_to_name.get('ROU')"
   ]
  },
  {
   "cell_type": "markdown",
   "metadata": {},
   "source": [
    "We'll later manually change `ROM` to `ROU` in our `wyd` dataset and just ignore the other four for convenience."
   ]
  },
  {
   "cell_type": "code",
   "execution_count": 19,
   "metadata": {},
   "outputs": [],
   "source": [
    "import json"
   ]
  },
  {
   "cell_type": "code",
   "execution_count": 20,
   "metadata": {},
   "outputs": [],
   "source": [
    "output = json.dumps(iso2_to_iso3)"
   ]
  },
  {
   "cell_type": "code",
   "execution_count": 21,
   "metadata": {},
   "outputs": [],
   "source": [
    "with open(\"./countries/iso2_to_iso3.js\", \"w\") as text_file:\n",
    "    text_file.write(\"var iso2_to_iso3 = \" + output)"
   ]
  },
  {
   "cell_type": "code",
   "execution_count": 22,
   "metadata": {},
   "outputs": [],
   "source": [
    "output = json.dumps(iso3_to_name)"
   ]
  },
  {
   "cell_type": "code",
   "execution_count": 23,
   "metadata": {},
   "outputs": [],
   "source": [
    "with open(\"./countries/iso3_to_name.js\", \"w\") as text_file:\n",
    "    text_file.write(\"var iso3_to_name = \" + output)"
   ]
  },
  {
   "cell_type": "code",
   "execution_count": 27,
   "metadata": {},
   "outputs": [],
   "source": [
    "output = json.dumps(iso3_to_iso2)"
   ]
  },
  {
   "cell_type": "code",
   "execution_count": 28,
   "metadata": {},
   "outputs": [],
   "source": [
    "with open(\"./countries/iso3_to_iso2.js\", \"w\") as text_file:\n",
    "    text_file.write(\"var iso3_to_iso2 = \" + output)"
   ]
  },
  {
   "cell_type": "code",
   "execution_count": null,
   "metadata": {},
   "outputs": [],
   "source": []
  }
 ],
 "metadata": {
  "kernelspec": {
   "display_name": "Python 3",
   "language": "python",
   "name": "python3"
  },
  "language_info": {
   "codemirror_mode": {
    "name": "ipython",
    "version": 3
   },
   "file_extension": ".py",
   "mimetype": "text/x-python",
   "name": "python",
   "nbconvert_exporter": "python",
   "pygments_lexer": "ipython3",
   "version": "3.7.0"
  }
 },
 "nbformat": 4,
 "nbformat_minor": 2
}
